{
 "cells": [
  {
   "cell_type": "markdown",
   "metadata": {},
   "source": [
    "# Facebook Recruiting IV: Human or Robot?"
   ]
  },
  {
   "cell_type": "markdown",
   "metadata": {},
   "source": [
    "###The goal is to identify online auction bids that are placed by \"robots\", helping the site owners easily flag these users for removal from their site to prevent unfair auction activity. "
   ]
  },
  {
   "cell_type": "code",
   "execution_count": 72,
   "metadata": {
    "collapsed": true
   },
   "outputs": [],
   "source": [
    "%matplotlib inline\n",
    "import matplotlib.pyplot as plt\n",
    "import pandas as pd\n",
    "import numpy as np"
   ]
  },
  {
   "cell_type": "code",
   "execution_count": 73,
   "metadata": {
    "collapsed": true
   },
   "outputs": [],
   "source": [
    "bidder_train = pd.read_csv('train.csv')"
   ]
  },
  {
   "cell_type": "markdown",
   "metadata": {},
   "source": [
    "##Data fields\n",
    "\n",
    "###For the bidder dataset\n",
    "\n",
    "####bidder_id – Unique identifier of a bidder.\n",
    "####payment_account – Payment account associated with a bidder. These are obfuscated to protect privacy. \n",
    "####address – Mailing address of a bidder. These are obfuscated to protect privacy. \n",
    "####outcome – Label of a bidder indicating whether or not it is a robot. Value 1.0 indicates a robot, where value 0.0 indicates human. \n"
   ]
  },
  {
   "cell_type": "code",
   "execution_count": 74,
   "metadata": {
    "collapsed": false
   },
   "outputs": [
    {
     "data": {
      "text/html": [
       "<div style=\"max-height:1000px;max-width:1500px;overflow:auto;\">\n",
       "<table border=\"1\" class=\"dataframe\">\n",
       "  <thead>\n",
       "    <tr style=\"text-align: right;\">\n",
       "      <th></th>\n",
       "      <th>bidder_id</th>\n",
       "      <th>payment_account</th>\n",
       "      <th>address</th>\n",
       "      <th>outcome</th>\n",
       "    </tr>\n",
       "  </thead>\n",
       "  <tbody>\n",
       "    <tr>\n",
       "      <th>0</th>\n",
       "      <td> 91a3c57b13234af24875c56fb7e2b2f4rb56a</td>\n",
       "      <td> a3d2de7675556553a5f08e4c88d2c228754av</td>\n",
       "      <td> a3d2de7675556553a5f08e4c88d2c228vt0u4</td>\n",
       "      <td> 0</td>\n",
       "    </tr>\n",
       "    <tr>\n",
       "      <th>1</th>\n",
       "      <td> 624f258b49e77713fc34034560f93fb3hu3jo</td>\n",
       "      <td> a3d2de7675556553a5f08e4c88d2c228v1sga</td>\n",
       "      <td> ae87054e5a97a8f840a3991d12611fdcrfbq3</td>\n",
       "      <td> 0</td>\n",
       "    </tr>\n",
       "    <tr>\n",
       "      <th>2</th>\n",
       "      <td> 1c5f4fc669099bfbfac515cd26997bd12ruaj</td>\n",
       "      <td> a3d2de7675556553a5f08e4c88d2c2280cybl</td>\n",
       "      <td> 92520288b50f03907041887884ba49c0cl0pd</td>\n",
       "      <td> 0</td>\n",
       "    </tr>\n",
       "    <tr>\n",
       "      <th>3</th>\n",
       "      <td> 4bee9aba2abda51bf43d639013d6efe12iycd</td>\n",
       "      <td> 51d80e233f7b6a7dfdee484a3c120f3b2ita8</td>\n",
       "      <td> 4cb9717c8ad7e88a9a284989dd79b98dbevyi</td>\n",
       "      <td> 0</td>\n",
       "    </tr>\n",
       "    <tr>\n",
       "      <th>4</th>\n",
       "      <td> 4ab12bc61c82ddd9c2d65e60555808acqgos1</td>\n",
       "      <td> a3d2de7675556553a5f08e4c88d2c22857ddh</td>\n",
       "      <td> 2a96c3ce94b3be921e0296097b88b56a7x1ji</td>\n",
       "      <td> 0</td>\n",
       "    </tr>\n",
       "  </tbody>\n",
       "</table>\n",
       "</div>"
      ],
      "text/plain": [
       "                               bidder_id  \\\n",
       "0  91a3c57b13234af24875c56fb7e2b2f4rb56a   \n",
       "1  624f258b49e77713fc34034560f93fb3hu3jo   \n",
       "2  1c5f4fc669099bfbfac515cd26997bd12ruaj   \n",
       "3  4bee9aba2abda51bf43d639013d6efe12iycd   \n",
       "4  4ab12bc61c82ddd9c2d65e60555808acqgos1   \n",
       "\n",
       "                         payment_account  \\\n",
       "0  a3d2de7675556553a5f08e4c88d2c228754av   \n",
       "1  a3d2de7675556553a5f08e4c88d2c228v1sga   \n",
       "2  a3d2de7675556553a5f08e4c88d2c2280cybl   \n",
       "3  51d80e233f7b6a7dfdee484a3c120f3b2ita8   \n",
       "4  a3d2de7675556553a5f08e4c88d2c22857ddh   \n",
       "\n",
       "                                 address  outcome  \n",
       "0  a3d2de7675556553a5f08e4c88d2c228vt0u4        0  \n",
       "1  ae87054e5a97a8f840a3991d12611fdcrfbq3        0  \n",
       "2  92520288b50f03907041887884ba49c0cl0pd        0  \n",
       "3  4cb9717c8ad7e88a9a284989dd79b98dbevyi        0  \n",
       "4  2a96c3ce94b3be921e0296097b88b56a7x1ji        0  "
      ]
     },
     "execution_count": 74,
     "metadata": {},
     "output_type": "execute_result"
    }
   ],
   "source": [
    "bidder_train.head()"
   ]
  },
  {
   "cell_type": "code",
   "execution_count": 75,
   "metadata": {
    "collapsed": false
   },
   "outputs": [
    {
     "name": "stdout",
     "output_type": "stream",
     "text": [
      "<class 'pandas.core.frame.DataFrame'>\n",
      "Int64Index: 2013 entries, 0 to 2012\n",
      "Data columns (total 4 columns):\n",
      "bidder_id          2013 non-null object\n",
      "payment_account    2013 non-null object\n",
      "address            2013 non-null object\n",
      "outcome            2013 non-null float64\n",
      "dtypes: float64(1), object(3)"
     ]
    }
   ],
   "source": [
    "bidder_train.info()"
   ]
  },
  {
   "cell_type": "code",
   "execution_count": 76,
   "metadata": {
    "collapsed": false
   },
   "outputs": [
    {
     "data": {
      "text/plain": [
       "0.94883258817685046"
      ]
     },
     "execution_count": 76,
     "metadata": {},
     "output_type": "execute_result"
    }
   ],
   "source": [
    "1 - bidder_train.outcome.mean()"
   ]
  },
  {
   "cell_type": "code",
   "execution_count": 77,
   "metadata": {
    "collapsed": true
   },
   "outputs": [],
   "source": [
    "bids = pd.read_csv('bids.csv')"
   ]
  },
  {
   "cell_type": "markdown",
   "metadata": {},
   "source": [
    "###For the bid dataset\n",
    "\n",
    "####bid_id - unique id for this bid\n",
    "####bidder_id – Unique identifier of a bidder (same as the bidder_id used in train.csv and test.csv)\n",
    "####auction – Unique identifier of an auction\n",
    "####merchandise –  The category of the auction site campaign, which means the bidder might come to this site by way of searching for \"home goods\" but ended up bidding for \"sporting goods\" - and that leads to this field being \"home goods\". This categorical field could be a search term, or online advertisement. \n",
    "####device – Phone model of a visitor\n",
    "####time - Time that the bid is made (transformed to protect privacy).\n",
    "####country - The country that the IP belongs to\n",
    "####ip – IP address of a bidder (obfuscated to protect privacy).\n",
    "####url - url where the bidder was referred from (obfuscated to protect privacy). "
   ]
  },
  {
   "cell_type": "code",
   "execution_count": 78,
   "metadata": {
    "collapsed": false
   },
   "outputs": [
    {
     "data": {
      "text/html": [
       "<div style=\"max-height:1000px;max-width:1500px;overflow:auto;\">\n",
       "<table border=\"1\" class=\"dataframe\">\n",
       "  <thead>\n",
       "    <tr style=\"text-align: right;\">\n",
       "      <th></th>\n",
       "      <th>bid_id</th>\n",
       "      <th>bidder_id</th>\n",
       "      <th>auction</th>\n",
       "      <th>merchandise</th>\n",
       "      <th>device</th>\n",
       "      <th>time</th>\n",
       "      <th>country</th>\n",
       "      <th>ip</th>\n",
       "      <th>url</th>\n",
       "    </tr>\n",
       "  </thead>\n",
       "  <tbody>\n",
       "    <tr>\n",
       "      <th>0</th>\n",
       "      <td> 0</td>\n",
       "      <td> 8dac2b259fd1c6d1120e519fb1ac14fbqvax8</td>\n",
       "      <td> ewmzr</td>\n",
       "      <td>        jewelry</td>\n",
       "      <td> phone0</td>\n",
       "      <td> 9759243157894736</td>\n",
       "      <td> us</td>\n",
       "      <td>   69.166.231.58</td>\n",
       "      <td> vasstdc27m7nks3</td>\n",
       "    </tr>\n",
       "    <tr>\n",
       "      <th>1</th>\n",
       "      <td> 1</td>\n",
       "      <td> 668d393e858e8126275433046bbd35c6tywop</td>\n",
       "      <td> aeqok</td>\n",
       "      <td>      furniture</td>\n",
       "      <td> phone1</td>\n",
       "      <td> 9759243157894736</td>\n",
       "      <td> in</td>\n",
       "      <td>   50.201.125.84</td>\n",
       "      <td> jmqlhflrzwuay9c</td>\n",
       "    </tr>\n",
       "    <tr>\n",
       "      <th>2</th>\n",
       "      <td> 2</td>\n",
       "      <td> aa5f360084278b35d746fa6af3a7a1a5ra3xe</td>\n",
       "      <td> wa00e</td>\n",
       "      <td>     home goods</td>\n",
       "      <td> phone2</td>\n",
       "      <td> 9759243157894736</td>\n",
       "      <td> py</td>\n",
       "      <td>  112.54.208.157</td>\n",
       "      <td> vasstdc27m7nks3</td>\n",
       "    </tr>\n",
       "    <tr>\n",
       "      <th>3</th>\n",
       "      <td> 3</td>\n",
       "      <td> 3939ac3ef7d472a59a9c5f893dd3e39fh9ofi</td>\n",
       "      <td> jefix</td>\n",
       "      <td>        jewelry</td>\n",
       "      <td> phone4</td>\n",
       "      <td> 9759243157894736</td>\n",
       "      <td> in</td>\n",
       "      <td>   18.99.175.133</td>\n",
       "      <td> vasstdc27m7nks3</td>\n",
       "    </tr>\n",
       "    <tr>\n",
       "      <th>4</th>\n",
       "      <td> 4</td>\n",
       "      <td> 8393c48eaf4b8fa96886edc7cf27b372dsibi</td>\n",
       "      <td> jefix</td>\n",
       "      <td>        jewelry</td>\n",
       "      <td> phone5</td>\n",
       "      <td> 9759243157894736</td>\n",
       "      <td> in</td>\n",
       "      <td>    145.138.5.37</td>\n",
       "      <td> vasstdc27m7nks3</td>\n",
       "    </tr>\n",
       "    <tr>\n",
       "      <th>5</th>\n",
       "      <td> 5</td>\n",
       "      <td> e8291466de91b0eb4e1515143c7f74dexy2yr</td>\n",
       "      <td> 3vi4t</td>\n",
       "      <td>         mobile</td>\n",
       "      <td> phone7</td>\n",
       "      <td> 9759243157894736</td>\n",
       "      <td> ru</td>\n",
       "      <td>   91.107.221.27</td>\n",
       "      <td> vasstdc27m7nks3</td>\n",
       "    </tr>\n",
       "    <tr>\n",
       "      <th>6</th>\n",
       "      <td> 6</td>\n",
       "      <td> eef4c687daf977f64fc1d08675c44444raj3s</td>\n",
       "      <td> kjlzx</td>\n",
       "      <td>         mobile</td>\n",
       "      <td> phone2</td>\n",
       "      <td> 9759243210526315</td>\n",
       "      <td> th</td>\n",
       "      <td> 152.235.155.159</td>\n",
       "      <td> j9nl1xmo6fqhcc6</td>\n",
       "    </tr>\n",
       "    <tr>\n",
       "      <th>7</th>\n",
       "      <td> 7</td>\n",
       "      <td> ab056855c9ca9d36390feae1fa485883issyg</td>\n",
       "      <td> f5f6k</td>\n",
       "      <td>     home goods</td>\n",
       "      <td> phone8</td>\n",
       "      <td> 9759243210526315</td>\n",
       "      <td> id</td>\n",
       "      <td>   3.210.112.183</td>\n",
       "      <td> hnt6hu93a3z1cpc</td>\n",
       "    </tr>\n",
       "    <tr>\n",
       "      <th>8</th>\n",
       "      <td> 8</td>\n",
       "      <td> d600dc03b11e7d782e1e4dae091b084a1h5ch</td>\n",
       "      <td> h7jjx</td>\n",
       "      <td>     home goods</td>\n",
       "      <td> phone9</td>\n",
       "      <td> 9759243210526315</td>\n",
       "      <td> th</td>\n",
       "      <td>  103.64.157.225</td>\n",
       "      <td> vasstdc27m7nks3</td>\n",
       "    </tr>\n",
       "    <tr>\n",
       "      <th>9</th>\n",
       "      <td> 9</td>\n",
       "      <td> a58ace8b671a7531c88814bc86b2a34cf0crb</td>\n",
       "      <td> 3zpkj</td>\n",
       "      <td> sporting goods</td>\n",
       "      <td> phone4</td>\n",
       "      <td> 9759243210526315</td>\n",
       "      <td> za</td>\n",
       "      <td>  123.28.123.226</td>\n",
       "      <td> vasstdc27m7nks3</td>\n",
       "    </tr>\n",
       "  </tbody>\n",
       "</table>\n",
       "</div>"
      ],
      "text/plain": [
       "   bid_id                              bidder_id auction     merchandise  \\\n",
       "0       0  8dac2b259fd1c6d1120e519fb1ac14fbqvax8   ewmzr         jewelry   \n",
       "1       1  668d393e858e8126275433046bbd35c6tywop   aeqok       furniture   \n",
       "2       2  aa5f360084278b35d746fa6af3a7a1a5ra3xe   wa00e      home goods   \n",
       "3       3  3939ac3ef7d472a59a9c5f893dd3e39fh9ofi   jefix         jewelry   \n",
       "4       4  8393c48eaf4b8fa96886edc7cf27b372dsibi   jefix         jewelry   \n",
       "5       5  e8291466de91b0eb4e1515143c7f74dexy2yr   3vi4t          mobile   \n",
       "6       6  eef4c687daf977f64fc1d08675c44444raj3s   kjlzx          mobile   \n",
       "7       7  ab056855c9ca9d36390feae1fa485883issyg   f5f6k      home goods   \n",
       "8       8  d600dc03b11e7d782e1e4dae091b084a1h5ch   h7jjx      home goods   \n",
       "9       9  a58ace8b671a7531c88814bc86b2a34cf0crb   3zpkj  sporting goods   \n",
       "\n",
       "   device              time country               ip              url  \n",
       "0  phone0  9759243157894736      us    69.166.231.58  vasstdc27m7nks3  \n",
       "1  phone1  9759243157894736      in    50.201.125.84  jmqlhflrzwuay9c  \n",
       "2  phone2  9759243157894736      py   112.54.208.157  vasstdc27m7nks3  \n",
       "3  phone4  9759243157894736      in    18.99.175.133  vasstdc27m7nks3  \n",
       "4  phone5  9759243157894736      in     145.138.5.37  vasstdc27m7nks3  \n",
       "5  phone7  9759243157894736      ru    91.107.221.27  vasstdc27m7nks3  \n",
       "6  phone2  9759243210526315      th  152.235.155.159  j9nl1xmo6fqhcc6  \n",
       "7  phone8  9759243210526315      id    3.210.112.183  hnt6hu93a3z1cpc  \n",
       "8  phone9  9759243210526315      th   103.64.157.225  vasstdc27m7nks3  \n",
       "9  phone4  9759243210526315      za   123.28.123.226  vasstdc27m7nks3  "
      ]
     },
     "execution_count": 78,
     "metadata": {},
     "output_type": "execute_result"
    }
   ],
   "source": [
    "bids.head(10)"
   ]
  },
  {
   "cell_type": "code",
   "execution_count": 79,
   "metadata": {
    "collapsed": false
   },
   "outputs": [
    {
     "name": "stdout",
     "output_type": "stream",
     "text": [
      "<class 'pandas.core.frame.DataFrame'>\n",
      "Int64Index: 7656334 entries, 0 to 7656333\n",
      "Data columns (total 9 columns):\n",
      "bid_id         int64\n",
      "bidder_id      object\n",
      "auction        object\n",
      "merchandise    object\n",
      "device         object\n",
      "time           int64\n",
      "country        object\n",
      "ip             object\n",
      "url            object\n",
      "dtypes: int64(2), object(7)"
     ]
    }
   ],
   "source": [
    "bids.info()"
   ]
  },
  {
   "cell_type": "code",
   "execution_count": 80,
   "metadata": {
    "collapsed": false
   },
   "outputs": [
    {
     "data": {
      "text/plain": [
       "0    91a3c57b13234af24875c56fb7e2b2f4rb56a\n",
       "1    624f258b49e77713fc34034560f93fb3hu3jo\n",
       "2    1c5f4fc669099bfbfac515cd26997bd12ruaj\n",
       "3    4bee9aba2abda51bf43d639013d6efe12iycd\n",
       "4    4ab12bc61c82ddd9c2d65e60555808acqgos1\n",
       "Name: bidder_id, dtype: object"
      ]
     },
     "execution_count": 80,
     "metadata": {},
     "output_type": "execute_result"
    }
   ],
   "source": [
    "bidder_train.bidder_id.head()"
   ]
  },
  {
   "cell_type": "markdown",
   "metadata": {},
   "source": [
    "##Merge the bids data set and the bidder data set"
   ]
  },
  {
   "cell_type": "code",
   "execution_count": 81,
   "metadata": {
    "collapsed": false
   },
   "outputs": [],
   "source": [
    "train_data = pd.merge(bids, bidder_train, how='left', on='bidder_id')"
   ]
  },
  {
   "cell_type": "code",
   "execution_count": 82,
   "metadata": {
    "collapsed": false
   },
   "outputs": [
    {
     "data": {
      "text/html": [
       "<div style=\"max-height:1000px;max-width:1500px;overflow:auto;\">\n",
       "<table border=\"1\" class=\"dataframe\">\n",
       "  <thead>\n",
       "    <tr style=\"text-align: right;\">\n",
       "      <th></th>\n",
       "      <th>bid_id</th>\n",
       "      <th>bidder_id</th>\n",
       "      <th>auction</th>\n",
       "      <th>merchandise</th>\n",
       "      <th>device</th>\n",
       "      <th>time</th>\n",
       "      <th>country</th>\n",
       "      <th>ip</th>\n",
       "      <th>url</th>\n",
       "      <th>payment_account</th>\n",
       "      <th>address</th>\n",
       "      <th>outcome</th>\n",
       "    </tr>\n",
       "  </thead>\n",
       "  <tbody>\n",
       "    <tr>\n",
       "      <th>0      </th>\n",
       "      <td>       0</td>\n",
       "      <td> 8dac2b259fd1c6d1120e519fb1ac14fbqvax8</td>\n",
       "      <td> ewmzr</td>\n",
       "      <td>         jewelry</td>\n",
       "      <td>   phone0</td>\n",
       "      <td> 9759243157894736</td>\n",
       "      <td> us</td>\n",
       "      <td>   69.166.231.58</td>\n",
       "      <td> vasstdc27m7nks3</td>\n",
       "      <td>                                   NaN</td>\n",
       "      <td>                                   NaN</td>\n",
       "      <td>NaN</td>\n",
       "    </tr>\n",
       "    <tr>\n",
       "      <th>1      </th>\n",
       "      <td>      14</td>\n",
       "      <td> 8dac2b259fd1c6d1120e519fb1ac14fbqvax8</td>\n",
       "      <td> wberf</td>\n",
       "      <td>         jewelry</td>\n",
       "      <td>  phone15</td>\n",
       "      <td> 9759243263157894</td>\n",
       "      <td> au</td>\n",
       "      <td> 134.243.148.253</td>\n",
       "      <td> vasstdc27m7nks3</td>\n",
       "      <td>                                   NaN</td>\n",
       "      <td>                                   NaN</td>\n",
       "      <td>NaN</td>\n",
       "    </tr>\n",
       "    <tr>\n",
       "      <th>2      </th>\n",
       "      <td>     106</td>\n",
       "      <td> 8dac2b259fd1c6d1120e519fb1ac14fbqvax8</td>\n",
       "      <td> hw5at</td>\n",
       "      <td>         jewelry</td>\n",
       "      <td>  phone80</td>\n",
       "      <td> 9759243736842105</td>\n",
       "      <td> ke</td>\n",
       "      <td>  227.231.81.211</td>\n",
       "      <td> v2gyrh0dbr31atn</td>\n",
       "      <td>                                   NaN</td>\n",
       "      <td>                                   NaN</td>\n",
       "      <td>NaN</td>\n",
       "    </tr>\n",
       "    <tr>\n",
       "      <th>3      </th>\n",
       "      <td>     152</td>\n",
       "      <td> 8dac2b259fd1c6d1120e519fb1ac14fbqvax8</td>\n",
       "      <td> uw3sx</td>\n",
       "      <td>         jewelry</td>\n",
       "      <td>  phone41</td>\n",
       "      <td> 9759243947368421</td>\n",
       "      <td> iq</td>\n",
       "      <td>  140.231.164.76</td>\n",
       "      <td> xdsfv4oevw5owkq</td>\n",
       "      <td>                                   NaN</td>\n",
       "      <td>                                   NaN</td>\n",
       "      <td>NaN</td>\n",
       "    </tr>\n",
       "    <tr>\n",
       "      <th>4      </th>\n",
       "      <td>     155</td>\n",
       "      <td> 8dac2b259fd1c6d1120e519fb1ac14fbqvax8</td>\n",
       "      <td> q79ya</td>\n",
       "      <td>         jewelry</td>\n",
       "      <td> phone102</td>\n",
       "      <td> 9759244000000000</td>\n",
       "      <td> za</td>\n",
       "      <td>  187.81.242.103</td>\n",
       "      <td> eex5it5avrad6s8</td>\n",
       "      <td>                                   NaN</td>\n",
       "      <td>                                   NaN</td>\n",
       "      <td>NaN</td>\n",
       "    </tr>\n",
       "    <tr>\n",
       "      <th>5      </th>\n",
       "      <td>     169</td>\n",
       "      <td> 8dac2b259fd1c6d1120e519fb1ac14fbqvax8</td>\n",
       "      <td> qcppg</td>\n",
       "      <td>         jewelry</td>\n",
       "      <td>   phone5</td>\n",
       "      <td> 9759244052631578</td>\n",
       "      <td> in</td>\n",
       "      <td>  13.136.161.106</td>\n",
       "      <td> vasstdc27m7nks3</td>\n",
       "      <td>                                   NaN</td>\n",
       "      <td>                                   NaN</td>\n",
       "      <td>NaN</td>\n",
       "    </tr>\n",
       "    <tr>\n",
       "      <th>6      </th>\n",
       "      <td>     224</td>\n",
       "      <td> 8dac2b259fd1c6d1120e519fb1ac14fbqvax8</td>\n",
       "      <td> fqfbw</td>\n",
       "      <td>         jewelry</td>\n",
       "      <td>   phone4</td>\n",
       "      <td> 9759244368421052</td>\n",
       "      <td> in</td>\n",
       "      <td>  153.47.226.142</td>\n",
       "      <td> vasstdc27m7nks3</td>\n",
       "      <td>                                   NaN</td>\n",
       "      <td>                                   NaN</td>\n",
       "      <td>NaN</td>\n",
       "    </tr>\n",
       "    <tr>\n",
       "      <th>7      </th>\n",
       "      <td>     366</td>\n",
       "      <td> 8dac2b259fd1c6d1120e519fb1ac14fbqvax8</td>\n",
       "      <td> idfc3</td>\n",
       "      <td>         jewelry</td>\n",
       "      <td>   phone4</td>\n",
       "      <td> 9759245052631578</td>\n",
       "      <td> ke</td>\n",
       "      <td>  207.97.126.108</td>\n",
       "      <td> vasstdc27m7nks3</td>\n",
       "      <td>                                   NaN</td>\n",
       "      <td>                                   NaN</td>\n",
       "      <td>NaN</td>\n",
       "    </tr>\n",
       "    <tr>\n",
       "      <th>8      </th>\n",
       "      <td>     421</td>\n",
       "      <td> 8dac2b259fd1c6d1120e519fb1ac14fbqvax8</td>\n",
       "      <td> ewmzr</td>\n",
       "      <td>         jewelry</td>\n",
       "      <td>   phone0</td>\n",
       "      <td> 9759245368421052</td>\n",
       "      <td> us</td>\n",
       "      <td>   69.166.231.58</td>\n",
       "      <td> vasstdc27m7nks3</td>\n",
       "      <td>                                   NaN</td>\n",
       "      <td>                                   NaN</td>\n",
       "      <td>NaN</td>\n",
       "    </tr>\n",
       "    <tr>\n",
       "      <th>9      </th>\n",
       "      <td>     422</td>\n",
       "      <td> 8dac2b259fd1c6d1120e519fb1ac14fbqvax8</td>\n",
       "      <td> 2yowp</td>\n",
       "      <td>         jewelry</td>\n",
       "      <td>  phone46</td>\n",
       "      <td> 9759245368421052</td>\n",
       "      <td> iq</td>\n",
       "      <td>  140.231.164.76</td>\n",
       "      <td> hsfvg8lforbluvq</td>\n",
       "      <td>                                   NaN</td>\n",
       "      <td>                                   NaN</td>\n",
       "      <td>NaN</td>\n",
       "    </tr>\n",
       "    <tr>\n",
       "      <th>10     </th>\n",
       "      <td>     443</td>\n",
       "      <td> 8dac2b259fd1c6d1120e519fb1ac14fbqvax8</td>\n",
       "      <td> 2yowp</td>\n",
       "      <td>         jewelry</td>\n",
       "      <td> phone169</td>\n",
       "      <td> 9759245473684210</td>\n",
       "      <td> iq</td>\n",
       "      <td>  140.231.164.76</td>\n",
       "      <td> oxknxnw05a8mulm</td>\n",
       "      <td>                                   NaN</td>\n",
       "      <td>                                   NaN</td>\n",
       "      <td>NaN</td>\n",
       "    </tr>\n",
       "    <tr>\n",
       "      <th>11     </th>\n",
       "      <td>     478</td>\n",
       "      <td> 8dac2b259fd1c6d1120e519fb1ac14fbqvax8</td>\n",
       "      <td> tp9bl</td>\n",
       "      <td>         jewelry</td>\n",
       "      <td>  phone36</td>\n",
       "      <td> 9759245684210526</td>\n",
       "      <td> ke</td>\n",
       "      <td>    47.117.5.187</td>\n",
       "      <td> vasstdc27m7nks3</td>\n",
       "      <td>                                   NaN</td>\n",
       "      <td>                                   NaN</td>\n",
       "      <td>NaN</td>\n",
       "    </tr>\n",
       "    <tr>\n",
       "      <th>12     </th>\n",
       "      <td>     880</td>\n",
       "      <td> 8dac2b259fd1c6d1120e519fb1ac14fbqvax8</td>\n",
       "      <td> ewmzr</td>\n",
       "      <td>         jewelry</td>\n",
       "      <td> phone220</td>\n",
       "      <td> 9759248052631578</td>\n",
       "      <td> us</td>\n",
       "      <td>   27.17.221.171</td>\n",
       "      <td> coaikfz4ebln9vg</td>\n",
       "      <td>                                   NaN</td>\n",
       "      <td>                                   NaN</td>\n",
       "      <td>NaN</td>\n",
       "    </tr>\n",
       "    <tr>\n",
       "      <th>13     </th>\n",
       "      <td>     919</td>\n",
       "      <td> 8dac2b259fd1c6d1120e519fb1ac14fbqvax8</td>\n",
       "      <td> 3boba</td>\n",
       "      <td>         jewelry</td>\n",
       "      <td> phone288</td>\n",
       "      <td> 9759248368421052</td>\n",
       "      <td> in</td>\n",
       "      <td>  255.123.138.45</td>\n",
       "      <td> 26mu0sthlpjmuex</td>\n",
       "      <td>                                   NaN</td>\n",
       "      <td>                                   NaN</td>\n",
       "      <td>NaN</td>\n",
       "    </tr>\n",
       "    <tr>\n",
       "      <th>14     </th>\n",
       "      <td>     934</td>\n",
       "      <td> 8dac2b259fd1c6d1120e519fb1ac14fbqvax8</td>\n",
       "      <td> csvpq</td>\n",
       "      <td>         jewelry</td>\n",
       "      <td>   phone4</td>\n",
       "      <td> 9759248421052631</td>\n",
       "      <td> my</td>\n",
       "      <td>    66.28.37.191</td>\n",
       "      <td> vasstdc27m7nks3</td>\n",
       "      <td>                                   NaN</td>\n",
       "      <td>                                   NaN</td>\n",
       "      <td>NaN</td>\n",
       "    </tr>\n",
       "    <tr>\n",
       "      <th>15     </th>\n",
       "      <td>    1012</td>\n",
       "      <td> 8dac2b259fd1c6d1120e519fb1ac14fbqvax8</td>\n",
       "      <td> fe96d</td>\n",
       "      <td>         jewelry</td>\n",
       "      <td> phone309</td>\n",
       "      <td> 9759248894736842</td>\n",
       "      <td> gt</td>\n",
       "      <td>      134.8.14.5</td>\n",
       "      <td> vasstdc27m7nks3</td>\n",
       "      <td>                                   NaN</td>\n",
       "      <td>                                   NaN</td>\n",
       "      <td>NaN</td>\n",
       "    </tr>\n",
       "    <tr>\n",
       "      <th>16     </th>\n",
       "      <td>    1021</td>\n",
       "      <td> 8dac2b259fd1c6d1120e519fb1ac14fbqvax8</td>\n",
       "      <td> ewmzr</td>\n",
       "      <td>         jewelry</td>\n",
       "      <td> phone312</td>\n",
       "      <td> 9759248947368421</td>\n",
       "      <td> us</td>\n",
       "      <td>  99.113.220.166</td>\n",
       "      <td> 3gtzjx11n9tvsdi</td>\n",
       "      <td>                                   NaN</td>\n",
       "      <td>                                   NaN</td>\n",
       "      <td>NaN</td>\n",
       "    </tr>\n",
       "    <tr>\n",
       "      <th>17     </th>\n",
       "      <td>    1032</td>\n",
       "      <td> 8dac2b259fd1c6d1120e519fb1ac14fbqvax8</td>\n",
       "      <td> lfz7h</td>\n",
       "      <td>         jewelry</td>\n",
       "      <td> phone116</td>\n",
       "      <td> 9759249000000000</td>\n",
       "      <td> in</td>\n",
       "      <td>   49.105.62.112</td>\n",
       "      <td> 29y6xf0hvrgz8lq</td>\n",
       "      <td>                                   NaN</td>\n",
       "      <td>                                   NaN</td>\n",
       "      <td>NaN</td>\n",
       "    </tr>\n",
       "    <tr>\n",
       "      <th>18     </th>\n",
       "      <td>    1129</td>\n",
       "      <td> 8dac2b259fd1c6d1120e519fb1ac14fbqvax8</td>\n",
       "      <td> 20fsz</td>\n",
       "      <td>         jewelry</td>\n",
       "      <td>   phone4</td>\n",
       "      <td> 9759249526315789</td>\n",
       "      <td> ke</td>\n",
       "      <td>    40.142.47.82</td>\n",
       "      <td> vasstdc27m7nks3</td>\n",
       "      <td>                                   NaN</td>\n",
       "      <td>                                   NaN</td>\n",
       "      <td>NaN</td>\n",
       "    </tr>\n",
       "    <tr>\n",
       "      <th>19     </th>\n",
       "      <td>    1445</td>\n",
       "      <td> 8dac2b259fd1c6d1120e519fb1ac14fbqvax8</td>\n",
       "      <td> tep1m</td>\n",
       "      <td>         jewelry</td>\n",
       "      <td>  phone62</td>\n",
       "      <td> 9759251421052631</td>\n",
       "      <td> in</td>\n",
       "      <td>  173.66.138.157</td>\n",
       "      <td> fvwdxuj9l4y4ef2</td>\n",
       "      <td>                                   NaN</td>\n",
       "      <td>                                   NaN</td>\n",
       "      <td>NaN</td>\n",
       "    </tr>\n",
       "    <tr>\n",
       "      <th>20     </th>\n",
       "      <td>    1464</td>\n",
       "      <td> 8dac2b259fd1c6d1120e519fb1ac14fbqvax8</td>\n",
       "      <td> fn6fr</td>\n",
       "      <td>         jewelry</td>\n",
       "      <td>   phone4</td>\n",
       "      <td> 9759251578947368</td>\n",
       "      <td> gt</td>\n",
       "      <td>  124.18.137.116</td>\n",
       "      <td> vasstdc27m7nks3</td>\n",
       "      <td>                                   NaN</td>\n",
       "      <td>                                   NaN</td>\n",
       "      <td>NaN</td>\n",
       "    </tr>\n",
       "    <tr>\n",
       "      <th>21     </th>\n",
       "      <td>    1728</td>\n",
       "      <td> 8dac2b259fd1c6d1120e519fb1ac14fbqvax8</td>\n",
       "      <td> zfls2</td>\n",
       "      <td>         jewelry</td>\n",
       "      <td>   phone0</td>\n",
       "      <td> 9759253000000000</td>\n",
       "      <td> in</td>\n",
       "      <td>  63.108.173.144</td>\n",
       "      <td> vasstdc27m7nks3</td>\n",
       "      <td>                                   NaN</td>\n",
       "      <td>                                   NaN</td>\n",
       "      <td>NaN</td>\n",
       "    </tr>\n",
       "    <tr>\n",
       "      <th>22     </th>\n",
       "      <td>    1762</td>\n",
       "      <td> 8dac2b259fd1c6d1120e519fb1ac14fbqvax8</td>\n",
       "      <td> tp9bl</td>\n",
       "      <td>         jewelry</td>\n",
       "      <td> phone195</td>\n",
       "      <td> 9759253210526315</td>\n",
       "      <td> ke</td>\n",
       "      <td>  253.115.16.144</td>\n",
       "      <td> vasstdc27m7nks3</td>\n",
       "      <td>                                   NaN</td>\n",
       "      <td>                                   NaN</td>\n",
       "      <td>NaN</td>\n",
       "    </tr>\n",
       "    <tr>\n",
       "      <th>23     </th>\n",
       "      <td>    1836</td>\n",
       "      <td> 8dac2b259fd1c6d1120e519fb1ac14fbqvax8</td>\n",
       "      <td> tp9bl</td>\n",
       "      <td>         jewelry</td>\n",
       "      <td>   phone4</td>\n",
       "      <td> 9759253631578947</td>\n",
       "      <td> ke</td>\n",
       "      <td>    35.103.121.7</td>\n",
       "      <td> vasstdc27m7nks3</td>\n",
       "      <td>                                   NaN</td>\n",
       "      <td>                                   NaN</td>\n",
       "      <td>NaN</td>\n",
       "    </tr>\n",
       "    <tr>\n",
       "      <th>24     </th>\n",
       "      <td>    1941</td>\n",
       "      <td> 8dac2b259fd1c6d1120e519fb1ac14fbqvax8</td>\n",
       "      <td> skwyv</td>\n",
       "      <td>         jewelry</td>\n",
       "      <td>  phone35</td>\n",
       "      <td> 9759254052631578</td>\n",
       "      <td> za</td>\n",
       "      <td>  136.46.197.154</td>\n",
       "      <td> ia0mdwcthm99544</td>\n",
       "      <td>                                   NaN</td>\n",
       "      <td>                                   NaN</td>\n",
       "      <td>NaN</td>\n",
       "    </tr>\n",
       "    <tr>\n",
       "      <th>25     </th>\n",
       "      <td>    1984</td>\n",
       "      <td> 8dac2b259fd1c6d1120e519fb1ac14fbqvax8</td>\n",
       "      <td> bggqz</td>\n",
       "      <td>         jewelry</td>\n",
       "      <td> phone448</td>\n",
       "      <td> 9759254315789473</td>\n",
       "      <td> bn</td>\n",
       "      <td>   214.97.62.199</td>\n",
       "      <td> wi8t4w05i247jqy</td>\n",
       "      <td>                                   NaN</td>\n",
       "      <td>                                   NaN</td>\n",
       "      <td>NaN</td>\n",
       "    </tr>\n",
       "    <tr>\n",
       "      <th>26     </th>\n",
       "      <td>    1994</td>\n",
       "      <td> 8dac2b259fd1c6d1120e519fb1ac14fbqvax8</td>\n",
       "      <td> tep1m</td>\n",
       "      <td>         jewelry</td>\n",
       "      <td>  phone17</td>\n",
       "      <td> 9759254368421052</td>\n",
       "      <td> in</td>\n",
       "      <td>   189.232.34.44</td>\n",
       "      <td> 6a9627dqjpy4wu2</td>\n",
       "      <td>                                   NaN</td>\n",
       "      <td>                                   NaN</td>\n",
       "      <td>NaN</td>\n",
       "    </tr>\n",
       "    <tr>\n",
       "      <th>27     </th>\n",
       "      <td>    2075</td>\n",
       "      <td> 8dac2b259fd1c6d1120e519fb1ac14fbqvax8</td>\n",
       "      <td> wghzu</td>\n",
       "      <td>         jewelry</td>\n",
       "      <td>  phone15</td>\n",
       "      <td> 9759254789473684</td>\n",
       "      <td> ar</td>\n",
       "      <td> 119.182.193.136</td>\n",
       "      <td> 4phcoen1iu35fkp</td>\n",
       "      <td>                                   NaN</td>\n",
       "      <td>                                   NaN</td>\n",
       "      <td>NaN</td>\n",
       "    </tr>\n",
       "    <tr>\n",
       "      <th>28     </th>\n",
       "      <td>    2196</td>\n",
       "      <td> 8dac2b259fd1c6d1120e519fb1ac14fbqvax8</td>\n",
       "      <td> skwyv</td>\n",
       "      <td>         jewelry</td>\n",
       "      <td>  phone31</td>\n",
       "      <td> 9759255473684210</td>\n",
       "      <td> za</td>\n",
       "      <td>  118.36.240.103</td>\n",
       "      <td> mvcuaf7fna120zv</td>\n",
       "      <td>                                   NaN</td>\n",
       "      <td>                                   NaN</td>\n",
       "      <td>NaN</td>\n",
       "    </tr>\n",
       "    <tr>\n",
       "      <th>29     </th>\n",
       "      <td>    2390</td>\n",
       "      <td> 8dac2b259fd1c6d1120e519fb1ac14fbqvax8</td>\n",
       "      <td> xk5nb</td>\n",
       "      <td>         jewelry</td>\n",
       "      <td>  phone35</td>\n",
       "      <td> 9759256578947368</td>\n",
       "      <td> in</td>\n",
       "      <td>  101.153.214.27</td>\n",
       "      <td> iw9lbh0of4w9iy4</td>\n",
       "      <td>                                   NaN</td>\n",
       "      <td>                                   NaN</td>\n",
       "      <td>NaN</td>\n",
       "    </tr>\n",
       "    <tr>\n",
       "      <th>...</th>\n",
       "      <td>...</td>\n",
       "      <td>...</td>\n",
       "      <td>...</td>\n",
       "      <td>...</td>\n",
       "      <td>...</td>\n",
       "      <td>...</td>\n",
       "      <td>...</td>\n",
       "      <td>...</td>\n",
       "      <td>...</td>\n",
       "      <td>...</td>\n",
       "      <td>...</td>\n",
       "      <td>...</td>\n",
       "    </tr>\n",
       "    <tr>\n",
       "      <th>7656304</th>\n",
       "      <td> 7618671</td>\n",
       "      <td> 7bb58b7875a093cbe7c5d487a825b730mjcw8</td>\n",
       "      <td> 596fl</td>\n",
       "      <td>      home goods</td>\n",
       "      <td>  phone22</td>\n",
       "      <td> 9709048736842105</td>\n",
       "      <td> au</td>\n",
       "      <td>    79.33.249.99</td>\n",
       "      <td> vasstdc27m7nks3</td>\n",
       "      <td> a3d2de7675556553a5f08e4c88d2c2283b82i</td>\n",
       "      <td> 60514906c638e30bf583fe0c781bf506j69e9</td>\n",
       "      <td>  1</td>\n",
       "    </tr>\n",
       "    <tr>\n",
       "      <th>7656305</th>\n",
       "      <td> 7619197</td>\n",
       "      <td> 7bb58b7875a093cbe7c5d487a825b730mjcw8</td>\n",
       "      <td> apfy9</td>\n",
       "      <td>      home goods</td>\n",
       "      <td>  phone22</td>\n",
       "      <td> 9709051000000000</td>\n",
       "      <td> au</td>\n",
       "      <td>    79.33.249.99</td>\n",
       "      <td> vasstdc27m7nks3</td>\n",
       "      <td> a3d2de7675556553a5f08e4c88d2c2283b82i</td>\n",
       "      <td> 60514906c638e30bf583fe0c781bf506j69e9</td>\n",
       "      <td>  1</td>\n",
       "    </tr>\n",
       "    <tr>\n",
       "      <th>7656306</th>\n",
       "      <td> 7619267</td>\n",
       "      <td> 7bb58b7875a093cbe7c5d487a825b730mjcw8</td>\n",
       "      <td> vp7uk</td>\n",
       "      <td>      home goods</td>\n",
       "      <td>  phone22</td>\n",
       "      <td> 9709051315789473</td>\n",
       "      <td> au</td>\n",
       "      <td>    79.33.249.99</td>\n",
       "      <td> vasstdc27m7nks3</td>\n",
       "      <td> a3d2de7675556553a5f08e4c88d2c2283b82i</td>\n",
       "      <td> 60514906c638e30bf583fe0c781bf506j69e9</td>\n",
       "      <td>  1</td>\n",
       "    </tr>\n",
       "    <tr>\n",
       "      <th>7656307</th>\n",
       "      <td> 7619426</td>\n",
       "      <td> 7bb58b7875a093cbe7c5d487a825b730mjcw8</td>\n",
       "      <td> 596fl</td>\n",
       "      <td>      home goods</td>\n",
       "      <td>  phone22</td>\n",
       "      <td> 9709052052631578</td>\n",
       "      <td> au</td>\n",
       "      <td>    79.33.249.99</td>\n",
       "      <td> vasstdc27m7nks3</td>\n",
       "      <td> a3d2de7675556553a5f08e4c88d2c2283b82i</td>\n",
       "      <td> 60514906c638e30bf583fe0c781bf506j69e9</td>\n",
       "      <td>  1</td>\n",
       "    </tr>\n",
       "    <tr>\n",
       "      <th>7656308</th>\n",
       "      <td> 7620459</td>\n",
       "      <td> 7bb58b7875a093cbe7c5d487a825b730mjcw8</td>\n",
       "      <td> 596fl</td>\n",
       "      <td>      home goods</td>\n",
       "      <td>  phone22</td>\n",
       "      <td> 9709057157894736</td>\n",
       "      <td> au</td>\n",
       "      <td>    79.33.249.99</td>\n",
       "      <td> rzfurpu12xsox3o</td>\n",
       "      <td> a3d2de7675556553a5f08e4c88d2c2283b82i</td>\n",
       "      <td> 60514906c638e30bf583fe0c781bf506j69e9</td>\n",
       "      <td>  1</td>\n",
       "    </tr>\n",
       "    <tr>\n",
       "      <th>7656309</th>\n",
       "      <td> 7620584</td>\n",
       "      <td> 7bb58b7875a093cbe7c5d487a825b730mjcw8</td>\n",
       "      <td> obu1s</td>\n",
       "      <td>      home goods</td>\n",
       "      <td>  phone22</td>\n",
       "      <td> 9709057736842105</td>\n",
       "      <td> au</td>\n",
       "      <td>    79.33.249.99</td>\n",
       "      <td> rzfurpu12xsox3o</td>\n",
       "      <td> a3d2de7675556553a5f08e4c88d2c2283b82i</td>\n",
       "      <td> 60514906c638e30bf583fe0c781bf506j69e9</td>\n",
       "      <td>  1</td>\n",
       "    </tr>\n",
       "    <tr>\n",
       "      <th>7656310</th>\n",
       "      <td> 7574071</td>\n",
       "      <td> 3a2e6d8da93da7b6f5b9c6ba770f8687tfkyk</td>\n",
       "      <td> jqx39</td>\n",
       "      <td>  sporting goods</td>\n",
       "      <td>  phone55</td>\n",
       "      <td> 9708844947368421</td>\n",
       "      <td> nl</td>\n",
       "      <td>    170.90.96.46</td>\n",
       "      <td> vasstdc27m7nks3</td>\n",
       "      <td>                                   NaN</td>\n",
       "      <td>                                   NaN</td>\n",
       "      <td>NaN</td>\n",
       "    </tr>\n",
       "    <tr>\n",
       "      <th>7656311</th>\n",
       "      <td> 7574406</td>\n",
       "      <td> 1af3a143e126acfc43031dd8e4612b2egr927</td>\n",
       "      <td> rimjm</td>\n",
       "      <td> books and music</td>\n",
       "      <td>  phone55</td>\n",
       "      <td> 9708846631578947</td>\n",
       "      <td> nl</td>\n",
       "      <td>    170.90.96.46</td>\n",
       "      <td> vasstdc27m7nks3</td>\n",
       "      <td>                                   NaN</td>\n",
       "      <td>                                   NaN</td>\n",
       "      <td>NaN</td>\n",
       "    </tr>\n",
       "    <tr>\n",
       "      <th>7656312</th>\n",
       "      <td> 7574873</td>\n",
       "      <td> 83b6cbf8c26ea604b48f508dd7728c9414pfn</td>\n",
       "      <td> rimjm</td>\n",
       "      <td>      home goods</td>\n",
       "      <td>  phone55</td>\n",
       "      <td> 9708848947368421</td>\n",
       "      <td> nl</td>\n",
       "      <td>    170.90.96.46</td>\n",
       "      <td> vasstdc27m7nks3</td>\n",
       "      <td>                                   NaN</td>\n",
       "      <td>                                   NaN</td>\n",
       "      <td>NaN</td>\n",
       "    </tr>\n",
       "    <tr>\n",
       "      <th>7656313</th>\n",
       "      <td> 7579195</td>\n",
       "      <td> bd890937b5601111119969b45bde5056eycor</td>\n",
       "      <td> r9bkk</td>\n",
       "      <td>          mobile</td>\n",
       "      <td>  phone55</td>\n",
       "      <td> 9708869789473684</td>\n",
       "      <td> nl</td>\n",
       "      <td>    170.90.96.46</td>\n",
       "      <td> vasstdc27m7nks3</td>\n",
       "      <td>                                   NaN</td>\n",
       "      <td>                                   NaN</td>\n",
       "      <td>NaN</td>\n",
       "    </tr>\n",
       "    <tr>\n",
       "      <th>7656314</th>\n",
       "      <td> 7580681</td>\n",
       "      <td> 107f0f8f2bf4fc62ba8c01003c516c03npt0l</td>\n",
       "      <td> rimjm</td>\n",
       "      <td>      home goods</td>\n",
       "      <td>  phone55</td>\n",
       "      <td> 9708876631578947</td>\n",
       "      <td> nl</td>\n",
       "      <td>    170.90.96.46</td>\n",
       "      <td> vasstdc27m7nks3</td>\n",
       "      <td>                                   NaN</td>\n",
       "      <td>                                   NaN</td>\n",
       "      <td>NaN</td>\n",
       "    </tr>\n",
       "    <tr>\n",
       "      <th>7656315</th>\n",
       "      <td> 7581178</td>\n",
       "      <td> 9f9313a1d8a88b3a3c8a2d893a92820dn38qc</td>\n",
       "      <td> ngxwj</td>\n",
       "      <td> books and music</td>\n",
       "      <td>  phone55</td>\n",
       "      <td> 9708878736842105</td>\n",
       "      <td> nl</td>\n",
       "      <td>    170.90.96.46</td>\n",
       "      <td> f9auj7w8b508a73</td>\n",
       "      <td>                                   NaN</td>\n",
       "      <td>                                   NaN</td>\n",
       "      <td>NaN</td>\n",
       "    </tr>\n",
       "    <tr>\n",
       "      <th>7656316</th>\n",
       "      <td> 7581468</td>\n",
       "      <td> 5563598101c7e6533b63f26827e57aa96qjww</td>\n",
       "      <td> uvnl7</td>\n",
       "      <td>  sporting goods</td>\n",
       "      <td>  phone55</td>\n",
       "      <td> 9708880000000000</td>\n",
       "      <td> nl</td>\n",
       "      <td>    170.90.96.46</td>\n",
       "      <td> vasstdc27m7nks3</td>\n",
       "      <td>                                   NaN</td>\n",
       "      <td>                                   NaN</td>\n",
       "      <td>NaN</td>\n",
       "    </tr>\n",
       "    <tr>\n",
       "      <th>7656317</th>\n",
       "      <td> 7590941</td>\n",
       "      <td> 15e7068e841df3f00857b9b1db46e79200trv</td>\n",
       "      <td> cy43h</td>\n",
       "      <td>  sporting goods</td>\n",
       "      <td> phone701</td>\n",
       "      <td> 9708923000000000</td>\n",
       "      <td> in</td>\n",
       "      <td>    2.65.210.174</td>\n",
       "      <td> nji6sd3ooltblhi</td>\n",
       "      <td>                                   NaN</td>\n",
       "      <td>                                   NaN</td>\n",
       "      <td>NaN</td>\n",
       "    </tr>\n",
       "    <tr>\n",
       "      <th>7656318</th>\n",
       "      <td> 7596138</td>\n",
       "      <td> 15e7068e841df3f00857b9b1db46e79200trv</td>\n",
       "      <td> lonx9</td>\n",
       "      <td>  sporting goods</td>\n",
       "      <td> phone701</td>\n",
       "      <td> 9708946473684210</td>\n",
       "      <td> in</td>\n",
       "      <td>    2.65.210.174</td>\n",
       "      <td> b8ys6sxu9on7t1o</td>\n",
       "      <td>                                   NaN</td>\n",
       "      <td>                                   NaN</td>\n",
       "      <td>NaN</td>\n",
       "    </tr>\n",
       "    <tr>\n",
       "      <th>7656319</th>\n",
       "      <td> 7597723</td>\n",
       "      <td> 15e7068e841df3f00857b9b1db46e79200trv</td>\n",
       "      <td> lonx9</td>\n",
       "      <td>  sporting goods</td>\n",
       "      <td> phone701</td>\n",
       "      <td> 9708953842105263</td>\n",
       "      <td> in</td>\n",
       "      <td>    2.65.210.174</td>\n",
       "      <td> b8ys6sxu9on7t1o</td>\n",
       "      <td>                                   NaN</td>\n",
       "      <td>                                   NaN</td>\n",
       "      <td>NaN</td>\n",
       "    </tr>\n",
       "    <tr>\n",
       "      <th>7656320</th>\n",
       "      <td> 7606010</td>\n",
       "      <td> 5a8019da4075c77405e43efd072670eegbme0</td>\n",
       "      <td> cpztg</td>\n",
       "      <td>          mobile</td>\n",
       "      <td> phone599</td>\n",
       "      <td> 9708990526315789</td>\n",
       "      <td> in</td>\n",
       "      <td>   131.65.67.170</td>\n",
       "      <td> pjjrk2xu50wqyqj</td>\n",
       "      <td>                                   NaN</td>\n",
       "      <td>                                   NaN</td>\n",
       "      <td>NaN</td>\n",
       "    </tr>\n",
       "    <tr>\n",
       "      <th>7656321</th>\n",
       "      <td> 7611553</td>\n",
       "      <td> 9390ac0a97e75b3b56fe63695d27a82euhv69</td>\n",
       "      <td> jqx39</td>\n",
       "      <td>          mobile</td>\n",
       "      <td>  phone65</td>\n",
       "      <td> 9709016000000000</td>\n",
       "      <td> cn</td>\n",
       "      <td>   43.183.46.135</td>\n",
       "      <td> vasstdc27m7nks3</td>\n",
       "      <td>                                   NaN</td>\n",
       "      <td>                                   NaN</td>\n",
       "      <td>NaN</td>\n",
       "    </tr>\n",
       "    <tr>\n",
       "      <th>7656322</th>\n",
       "      <td> 7611908</td>\n",
       "      <td> 13eaa629e1a8fd178403a66fcf0758bbirawk</td>\n",
       "      <td> x36iy</td>\n",
       "      <td>          mobile</td>\n",
       "      <td> phone142</td>\n",
       "      <td> 9709017526315789</td>\n",
       "      <td> in</td>\n",
       "      <td>   55.17.153.143</td>\n",
       "      <td> a0my0kl7aw0e2tu</td>\n",
       "      <td>                                   NaN</td>\n",
       "      <td>                                   NaN</td>\n",
       "      <td>NaN</td>\n",
       "    </tr>\n",
       "    <tr>\n",
       "      <th>7656323</th>\n",
       "      <td> 7613063</td>\n",
       "      <td> d96919260372faba6c766a734e5af2f0bmnrx</td>\n",
       "      <td> jqx39</td>\n",
       "      <td>      home goods</td>\n",
       "      <td> phone159</td>\n",
       "      <td> 9709022789473684</td>\n",
       "      <td> id</td>\n",
       "      <td>   44.58.154.221</td>\n",
       "      <td> yk3c7ddhv00whmj</td>\n",
       "      <td>                                   NaN</td>\n",
       "      <td>                                   NaN</td>\n",
       "      <td>NaN</td>\n",
       "    </tr>\n",
       "    <tr>\n",
       "      <th>7656324</th>\n",
       "      <td> 7614200</td>\n",
       "      <td> 1dab9ffc5c6bf06e86e0dd1b3cb9ebecn5pu6</td>\n",
       "      <td> jqx39</td>\n",
       "      <td>         jewelry</td>\n",
       "      <td>  phone76</td>\n",
       "      <td> 9709028052631578</td>\n",
       "      <td> id</td>\n",
       "      <td>  121.17.182.102</td>\n",
       "      <td> zevtz58oim9r7i5</td>\n",
       "      <td> a3d2de7675556553a5f08e4c88d2c228wissi</td>\n",
       "      <td> 502100bcbbe650810a27b0e70d96372ere7rp</td>\n",
       "      <td>  0</td>\n",
       "    </tr>\n",
       "    <tr>\n",
       "      <th>7656325</th>\n",
       "      <td> 7617228</td>\n",
       "      <td> 1dab9ffc5c6bf06e86e0dd1b3cb9ebecn5pu6</td>\n",
       "      <td> jqx39</td>\n",
       "      <td>         jewelry</td>\n",
       "      <td>  phone65</td>\n",
       "      <td> 9709041947368421</td>\n",
       "      <td> cn</td>\n",
       "      <td>   90.168.76.210</td>\n",
       "      <td> vasstdc27m7nks3</td>\n",
       "      <td> a3d2de7675556553a5f08e4c88d2c228wissi</td>\n",
       "      <td> 502100bcbbe650810a27b0e70d96372ere7rp</td>\n",
       "      <td>  0</td>\n",
       "    </tr>\n",
       "    <tr>\n",
       "      <th>7656326</th>\n",
       "      <td> 7620537</td>\n",
       "      <td> ab322943595e79518789689659bb92ccglpvy</td>\n",
       "      <td> obbny</td>\n",
       "      <td>          mobile</td>\n",
       "      <td> phone159</td>\n",
       "      <td> 9709057526315789</td>\n",
       "      <td> bd</td>\n",
       "      <td>  109.153.162.33</td>\n",
       "      <td> go4zcs61yvmcfat</td>\n",
       "      <td>                                   NaN</td>\n",
       "      <td>                                   NaN</td>\n",
       "      <td>NaN</td>\n",
       "    </tr>\n",
       "    <tr>\n",
       "      <th>7656327</th>\n",
       "      <td> 7621335</td>\n",
       "      <td> 567a87e043599f2c26954849c8975123hmrya</td>\n",
       "      <td> x55qp</td>\n",
       "      <td>         jewelry</td>\n",
       "      <td>   phone4</td>\n",
       "      <td> 9709061578947368</td>\n",
       "      <td> id</td>\n",
       "      <td>    31.170.58.67</td>\n",
       "      <td> vasstdc27m7nks3</td>\n",
       "      <td>                                   NaN</td>\n",
       "      <td>                                   NaN</td>\n",
       "      <td>NaN</td>\n",
       "    </tr>\n",
       "    <tr>\n",
       "      <th>7656328</th>\n",
       "      <td> 7624222</td>\n",
       "      <td> 5efb069775f7a0f9fd0485490d7591fby97q6</td>\n",
       "      <td> b6zck</td>\n",
       "      <td>         jewelry</td>\n",
       "      <td>  phone97</td>\n",
       "      <td> 9709075105263157</td>\n",
       "      <td> lt</td>\n",
       "      <td> 238.181.184.249</td>\n",
       "      <td> lvfeao1ammt1bbb</td>\n",
       "      <td>                                   NaN</td>\n",
       "      <td>                                   NaN</td>\n",
       "      <td>NaN</td>\n",
       "    </tr>\n",
       "    <tr>\n",
       "      <th>7656329</th>\n",
       "      <td> 7635939</td>\n",
       "      <td> 57baadea0359cccd55d6e3b530b021f13umk8</td>\n",
       "      <td> uvscd</td>\n",
       "      <td>         jewelry</td>\n",
       "      <td> phone771</td>\n",
       "      <td> 9709128842105263</td>\n",
       "      <td> my</td>\n",
       "      <td>    0.159.159.71</td>\n",
       "      <td> o7cvs4pyf85i7d8</td>\n",
       "      <td>                                   NaN</td>\n",
       "      <td>                                   NaN</td>\n",
       "      <td>NaN</td>\n",
       "    </tr>\n",
       "    <tr>\n",
       "      <th>7656330</th>\n",
       "      <td> 7637097</td>\n",
       "      <td> 91c749114e26abdb9a4536169f9b4580huern</td>\n",
       "      <td> jqx39</td>\n",
       "      <td>         jewelry</td>\n",
       "      <td>  phone15</td>\n",
       "      <td> 9709134105263157</td>\n",
       "      <td> id</td>\n",
       "      <td>   221.143.27.57</td>\n",
       "      <td> pkegaymari9jblo</td>\n",
       "      <td> a3d2de7675556553a5f08e4c88d2c228tekzv</td>\n",
       "      <td> 2cffbc8171f2ef4b5cafe94f038c877bcert5</td>\n",
       "      <td>  1</td>\n",
       "    </tr>\n",
       "    <tr>\n",
       "      <th>7656331</th>\n",
       "      <td> 7639758</td>\n",
       "      <td> a06311ea45de34bf667b79a92d13c764i6aiy</td>\n",
       "      <td> cy43h</td>\n",
       "      <td>  sporting goods</td>\n",
       "      <td> phone142</td>\n",
       "      <td> 9709146315789473</td>\n",
       "      <td> in</td>\n",
       "      <td>  108.54.134.235</td>\n",
       "      <td> xe4uylmhtrsvss1</td>\n",
       "      <td> a3d2de7675556553a5f08e4c88d2c2284grjh</td>\n",
       "      <td> e1ef795abd4f178f753542cbbf54ce89jcfxk</td>\n",
       "      <td>  0</td>\n",
       "    </tr>\n",
       "    <tr>\n",
       "      <th>7656332</th>\n",
       "      <td> 7651414</td>\n",
       "      <td> dfb23124fba16b7778f65c1c8d091f949jz0k</td>\n",
       "      <td> y3n7r</td>\n",
       "      <td>          mobile</td>\n",
       "      <td>  phone21</td>\n",
       "      <td> 9709200631578947</td>\n",
       "      <td> in</td>\n",
       "      <td>   95.158.193.99</td>\n",
       "      <td> qctqqhoxoicvck1</td>\n",
       "      <td> 4c94a221dc03977b5bf3f2035379797cn4n58</td>\n",
       "      <td> 65d747de6c1cca49af4c0c27a5b7e8c7tti5y</td>\n",
       "      <td>  0</td>\n",
       "    </tr>\n",
       "    <tr>\n",
       "      <th>7656333</th>\n",
       "      <td> 7651994</td>\n",
       "      <td> 01f498a0992d280de63ec346692efb2blckg2</td>\n",
       "      <td> 9br8v</td>\n",
       "      <td>         jewelry</td>\n",
       "      <td> phone457</td>\n",
       "      <td> 9709203210526315</td>\n",
       "      <td> in</td>\n",
       "      <td>    7.123.42.157</td>\n",
       "      <td> 6aw2f4acgfy6qf1</td>\n",
       "      <td> d817b2cf2acb3ccbd33c306831950345h2vb5</td>\n",
       "      <td> 7a6f24d2b51620605da00bda42691f30697ky</td>\n",
       "      <td>  0</td>\n",
       "    </tr>\n",
       "  </tbody>\n",
       "</table>\n",
       "<p>7656334 rows × 12 columns</p>\n",
       "</div>"
      ],
      "text/plain": [
       "          bid_id                              bidder_id auction  \\\n",
       "0              0  8dac2b259fd1c6d1120e519fb1ac14fbqvax8   ewmzr   \n",
       "1             14  8dac2b259fd1c6d1120e519fb1ac14fbqvax8   wberf   \n",
       "2            106  8dac2b259fd1c6d1120e519fb1ac14fbqvax8   hw5at   \n",
       "3            152  8dac2b259fd1c6d1120e519fb1ac14fbqvax8   uw3sx   \n",
       "4            155  8dac2b259fd1c6d1120e519fb1ac14fbqvax8   q79ya   \n",
       "5            169  8dac2b259fd1c6d1120e519fb1ac14fbqvax8   qcppg   \n",
       "6            224  8dac2b259fd1c6d1120e519fb1ac14fbqvax8   fqfbw   \n",
       "7            366  8dac2b259fd1c6d1120e519fb1ac14fbqvax8   idfc3   \n",
       "8            421  8dac2b259fd1c6d1120e519fb1ac14fbqvax8   ewmzr   \n",
       "9            422  8dac2b259fd1c6d1120e519fb1ac14fbqvax8   2yowp   \n",
       "10           443  8dac2b259fd1c6d1120e519fb1ac14fbqvax8   2yowp   \n",
       "11           478  8dac2b259fd1c6d1120e519fb1ac14fbqvax8   tp9bl   \n",
       "12           880  8dac2b259fd1c6d1120e519fb1ac14fbqvax8   ewmzr   \n",
       "13           919  8dac2b259fd1c6d1120e519fb1ac14fbqvax8   3boba   \n",
       "14           934  8dac2b259fd1c6d1120e519fb1ac14fbqvax8   csvpq   \n",
       "15          1012  8dac2b259fd1c6d1120e519fb1ac14fbqvax8   fe96d   \n",
       "16          1021  8dac2b259fd1c6d1120e519fb1ac14fbqvax8   ewmzr   \n",
       "17          1032  8dac2b259fd1c6d1120e519fb1ac14fbqvax8   lfz7h   \n",
       "18          1129  8dac2b259fd1c6d1120e519fb1ac14fbqvax8   20fsz   \n",
       "19          1445  8dac2b259fd1c6d1120e519fb1ac14fbqvax8   tep1m   \n",
       "20          1464  8dac2b259fd1c6d1120e519fb1ac14fbqvax8   fn6fr   \n",
       "21          1728  8dac2b259fd1c6d1120e519fb1ac14fbqvax8   zfls2   \n",
       "22          1762  8dac2b259fd1c6d1120e519fb1ac14fbqvax8   tp9bl   \n",
       "23          1836  8dac2b259fd1c6d1120e519fb1ac14fbqvax8   tp9bl   \n",
       "24          1941  8dac2b259fd1c6d1120e519fb1ac14fbqvax8   skwyv   \n",
       "25          1984  8dac2b259fd1c6d1120e519fb1ac14fbqvax8   bggqz   \n",
       "26          1994  8dac2b259fd1c6d1120e519fb1ac14fbqvax8   tep1m   \n",
       "27          2075  8dac2b259fd1c6d1120e519fb1ac14fbqvax8   wghzu   \n",
       "28          2196  8dac2b259fd1c6d1120e519fb1ac14fbqvax8   skwyv   \n",
       "29          2390  8dac2b259fd1c6d1120e519fb1ac14fbqvax8   xk5nb   \n",
       "...          ...                                    ...     ...   \n",
       "7656304  7618671  7bb58b7875a093cbe7c5d487a825b730mjcw8   596fl   \n",
       "7656305  7619197  7bb58b7875a093cbe7c5d487a825b730mjcw8   apfy9   \n",
       "7656306  7619267  7bb58b7875a093cbe7c5d487a825b730mjcw8   vp7uk   \n",
       "7656307  7619426  7bb58b7875a093cbe7c5d487a825b730mjcw8   596fl   \n",
       "7656308  7620459  7bb58b7875a093cbe7c5d487a825b730mjcw8   596fl   \n",
       "7656309  7620584  7bb58b7875a093cbe7c5d487a825b730mjcw8   obu1s   \n",
       "7656310  7574071  3a2e6d8da93da7b6f5b9c6ba770f8687tfkyk   jqx39   \n",
       "7656311  7574406  1af3a143e126acfc43031dd8e4612b2egr927   rimjm   \n",
       "7656312  7574873  83b6cbf8c26ea604b48f508dd7728c9414pfn   rimjm   \n",
       "7656313  7579195  bd890937b5601111119969b45bde5056eycor   r9bkk   \n",
       "7656314  7580681  107f0f8f2bf4fc62ba8c01003c516c03npt0l   rimjm   \n",
       "7656315  7581178  9f9313a1d8a88b3a3c8a2d893a92820dn38qc   ngxwj   \n",
       "7656316  7581468  5563598101c7e6533b63f26827e57aa96qjww   uvnl7   \n",
       "7656317  7590941  15e7068e841df3f00857b9b1db46e79200trv   cy43h   \n",
       "7656318  7596138  15e7068e841df3f00857b9b1db46e79200trv   lonx9   \n",
       "7656319  7597723  15e7068e841df3f00857b9b1db46e79200trv   lonx9   \n",
       "7656320  7606010  5a8019da4075c77405e43efd072670eegbme0   cpztg   \n",
       "7656321  7611553  9390ac0a97e75b3b56fe63695d27a82euhv69   jqx39   \n",
       "7656322  7611908  13eaa629e1a8fd178403a66fcf0758bbirawk   x36iy   \n",
       "7656323  7613063  d96919260372faba6c766a734e5af2f0bmnrx   jqx39   \n",
       "7656324  7614200  1dab9ffc5c6bf06e86e0dd1b3cb9ebecn5pu6   jqx39   \n",
       "7656325  7617228  1dab9ffc5c6bf06e86e0dd1b3cb9ebecn5pu6   jqx39   \n",
       "7656326  7620537  ab322943595e79518789689659bb92ccglpvy   obbny   \n",
       "7656327  7621335  567a87e043599f2c26954849c8975123hmrya   x55qp   \n",
       "7656328  7624222  5efb069775f7a0f9fd0485490d7591fby97q6   b6zck   \n",
       "7656329  7635939  57baadea0359cccd55d6e3b530b021f13umk8   uvscd   \n",
       "7656330  7637097  91c749114e26abdb9a4536169f9b4580huern   jqx39   \n",
       "7656331  7639758  a06311ea45de34bf667b79a92d13c764i6aiy   cy43h   \n",
       "7656332  7651414  dfb23124fba16b7778f65c1c8d091f949jz0k   y3n7r   \n",
       "7656333  7651994  01f498a0992d280de63ec346692efb2blckg2   9br8v   \n",
       "\n",
       "             merchandise    device              time country               ip  \\\n",
       "0                jewelry    phone0  9759243157894736      us    69.166.231.58   \n",
       "1                jewelry   phone15  9759243263157894      au  134.243.148.253   \n",
       "2                jewelry   phone80  9759243736842105      ke   227.231.81.211   \n",
       "3                jewelry   phone41  9759243947368421      iq   140.231.164.76   \n",
       "4                jewelry  phone102  9759244000000000      za   187.81.242.103   \n",
       "5                jewelry    phone5  9759244052631578      in   13.136.161.106   \n",
       "6                jewelry    phone4  9759244368421052      in   153.47.226.142   \n",
       "7                jewelry    phone4  9759245052631578      ke   207.97.126.108   \n",
       "8                jewelry    phone0  9759245368421052      us    69.166.231.58   \n",
       "9                jewelry   phone46  9759245368421052      iq   140.231.164.76   \n",
       "10               jewelry  phone169  9759245473684210      iq   140.231.164.76   \n",
       "11               jewelry   phone36  9759245684210526      ke     47.117.5.187   \n",
       "12               jewelry  phone220  9759248052631578      us    27.17.221.171   \n",
       "13               jewelry  phone288  9759248368421052      in   255.123.138.45   \n",
       "14               jewelry    phone4  9759248421052631      my     66.28.37.191   \n",
       "15               jewelry  phone309  9759248894736842      gt       134.8.14.5   \n",
       "16               jewelry  phone312  9759248947368421      us   99.113.220.166   \n",
       "17               jewelry  phone116  9759249000000000      in    49.105.62.112   \n",
       "18               jewelry    phone4  9759249526315789      ke     40.142.47.82   \n",
       "19               jewelry   phone62  9759251421052631      in   173.66.138.157   \n",
       "20               jewelry    phone4  9759251578947368      gt   124.18.137.116   \n",
       "21               jewelry    phone0  9759253000000000      in   63.108.173.144   \n",
       "22               jewelry  phone195  9759253210526315      ke   253.115.16.144   \n",
       "23               jewelry    phone4  9759253631578947      ke     35.103.121.7   \n",
       "24               jewelry   phone35  9759254052631578      za   136.46.197.154   \n",
       "25               jewelry  phone448  9759254315789473      bn    214.97.62.199   \n",
       "26               jewelry   phone17  9759254368421052      in    189.232.34.44   \n",
       "27               jewelry   phone15  9759254789473684      ar  119.182.193.136   \n",
       "28               jewelry   phone31  9759255473684210      za   118.36.240.103   \n",
       "29               jewelry   phone35  9759256578947368      in   101.153.214.27   \n",
       "...                  ...       ...               ...     ...              ...   \n",
       "7656304       home goods   phone22  9709048736842105      au     79.33.249.99   \n",
       "7656305       home goods   phone22  9709051000000000      au     79.33.249.99   \n",
       "7656306       home goods   phone22  9709051315789473      au     79.33.249.99   \n",
       "7656307       home goods   phone22  9709052052631578      au     79.33.249.99   \n",
       "7656308       home goods   phone22  9709057157894736      au     79.33.249.99   \n",
       "7656309       home goods   phone22  9709057736842105      au     79.33.249.99   \n",
       "7656310   sporting goods   phone55  9708844947368421      nl     170.90.96.46   \n",
       "7656311  books and music   phone55  9708846631578947      nl     170.90.96.46   \n",
       "7656312       home goods   phone55  9708848947368421      nl     170.90.96.46   \n",
       "7656313           mobile   phone55  9708869789473684      nl     170.90.96.46   \n",
       "7656314       home goods   phone55  9708876631578947      nl     170.90.96.46   \n",
       "7656315  books and music   phone55  9708878736842105      nl     170.90.96.46   \n",
       "7656316   sporting goods   phone55  9708880000000000      nl     170.90.96.46   \n",
       "7656317   sporting goods  phone701  9708923000000000      in     2.65.210.174   \n",
       "7656318   sporting goods  phone701  9708946473684210      in     2.65.210.174   \n",
       "7656319   sporting goods  phone701  9708953842105263      in     2.65.210.174   \n",
       "7656320           mobile  phone599  9708990526315789      in    131.65.67.170   \n",
       "7656321           mobile   phone65  9709016000000000      cn    43.183.46.135   \n",
       "7656322           mobile  phone142  9709017526315789      in    55.17.153.143   \n",
       "7656323       home goods  phone159  9709022789473684      id    44.58.154.221   \n",
       "7656324          jewelry   phone76  9709028052631578      id   121.17.182.102   \n",
       "7656325          jewelry   phone65  9709041947368421      cn    90.168.76.210   \n",
       "7656326           mobile  phone159  9709057526315789      bd   109.153.162.33   \n",
       "7656327          jewelry    phone4  9709061578947368      id     31.170.58.67   \n",
       "7656328          jewelry   phone97  9709075105263157      lt  238.181.184.249   \n",
       "7656329          jewelry  phone771  9709128842105263      my     0.159.159.71   \n",
       "7656330          jewelry   phone15  9709134105263157      id    221.143.27.57   \n",
       "7656331   sporting goods  phone142  9709146315789473      in   108.54.134.235   \n",
       "7656332           mobile   phone21  9709200631578947      in    95.158.193.99   \n",
       "7656333          jewelry  phone457  9709203210526315      in     7.123.42.157   \n",
       "\n",
       "                     url                        payment_account  \\\n",
       "0        vasstdc27m7nks3                                    NaN   \n",
       "1        vasstdc27m7nks3                                    NaN   \n",
       "2        v2gyrh0dbr31atn                                    NaN   \n",
       "3        xdsfv4oevw5owkq                                    NaN   \n",
       "4        eex5it5avrad6s8                                    NaN   \n",
       "5        vasstdc27m7nks3                                    NaN   \n",
       "6        vasstdc27m7nks3                                    NaN   \n",
       "7        vasstdc27m7nks3                                    NaN   \n",
       "8        vasstdc27m7nks3                                    NaN   \n",
       "9        hsfvg8lforbluvq                                    NaN   \n",
       "10       oxknxnw05a8mulm                                    NaN   \n",
       "11       vasstdc27m7nks3                                    NaN   \n",
       "12       coaikfz4ebln9vg                                    NaN   \n",
       "13       26mu0sthlpjmuex                                    NaN   \n",
       "14       vasstdc27m7nks3                                    NaN   \n",
       "15       vasstdc27m7nks3                                    NaN   \n",
       "16       3gtzjx11n9tvsdi                                    NaN   \n",
       "17       29y6xf0hvrgz8lq                                    NaN   \n",
       "18       vasstdc27m7nks3                                    NaN   \n",
       "19       fvwdxuj9l4y4ef2                                    NaN   \n",
       "20       vasstdc27m7nks3                                    NaN   \n",
       "21       vasstdc27m7nks3                                    NaN   \n",
       "22       vasstdc27m7nks3                                    NaN   \n",
       "23       vasstdc27m7nks3                                    NaN   \n",
       "24       ia0mdwcthm99544                                    NaN   \n",
       "25       wi8t4w05i247jqy                                    NaN   \n",
       "26       6a9627dqjpy4wu2                                    NaN   \n",
       "27       4phcoen1iu35fkp                                    NaN   \n",
       "28       mvcuaf7fna120zv                                    NaN   \n",
       "29       iw9lbh0of4w9iy4                                    NaN   \n",
       "...                  ...                                    ...   \n",
       "7656304  vasstdc27m7nks3  a3d2de7675556553a5f08e4c88d2c2283b82i   \n",
       "7656305  vasstdc27m7nks3  a3d2de7675556553a5f08e4c88d2c2283b82i   \n",
       "7656306  vasstdc27m7nks3  a3d2de7675556553a5f08e4c88d2c2283b82i   \n",
       "7656307  vasstdc27m7nks3  a3d2de7675556553a5f08e4c88d2c2283b82i   \n",
       "7656308  rzfurpu12xsox3o  a3d2de7675556553a5f08e4c88d2c2283b82i   \n",
       "7656309  rzfurpu12xsox3o  a3d2de7675556553a5f08e4c88d2c2283b82i   \n",
       "7656310  vasstdc27m7nks3                                    NaN   \n",
       "7656311  vasstdc27m7nks3                                    NaN   \n",
       "7656312  vasstdc27m7nks3                                    NaN   \n",
       "7656313  vasstdc27m7nks3                                    NaN   \n",
       "7656314  vasstdc27m7nks3                                    NaN   \n",
       "7656315  f9auj7w8b508a73                                    NaN   \n",
       "7656316  vasstdc27m7nks3                                    NaN   \n",
       "7656317  nji6sd3ooltblhi                                    NaN   \n",
       "7656318  b8ys6sxu9on7t1o                                    NaN   \n",
       "7656319  b8ys6sxu9on7t1o                                    NaN   \n",
       "7656320  pjjrk2xu50wqyqj                                    NaN   \n",
       "7656321  vasstdc27m7nks3                                    NaN   \n",
       "7656322  a0my0kl7aw0e2tu                                    NaN   \n",
       "7656323  yk3c7ddhv00whmj                                    NaN   \n",
       "7656324  zevtz58oim9r7i5  a3d2de7675556553a5f08e4c88d2c228wissi   \n",
       "7656325  vasstdc27m7nks3  a3d2de7675556553a5f08e4c88d2c228wissi   \n",
       "7656326  go4zcs61yvmcfat                                    NaN   \n",
       "7656327  vasstdc27m7nks3                                    NaN   \n",
       "7656328  lvfeao1ammt1bbb                                    NaN   \n",
       "7656329  o7cvs4pyf85i7d8                                    NaN   \n",
       "7656330  pkegaymari9jblo  a3d2de7675556553a5f08e4c88d2c228tekzv   \n",
       "7656331  xe4uylmhtrsvss1  a3d2de7675556553a5f08e4c88d2c2284grjh   \n",
       "7656332  qctqqhoxoicvck1  4c94a221dc03977b5bf3f2035379797cn4n58   \n",
       "7656333  6aw2f4acgfy6qf1  d817b2cf2acb3ccbd33c306831950345h2vb5   \n",
       "\n",
       "                                       address  outcome  \n",
       "0                                          NaN      NaN  \n",
       "1                                          NaN      NaN  \n",
       "2                                          NaN      NaN  \n",
       "3                                          NaN      NaN  \n",
       "4                                          NaN      NaN  \n",
       "5                                          NaN      NaN  \n",
       "6                                          NaN      NaN  \n",
       "7                                          NaN      NaN  \n",
       "8                                          NaN      NaN  \n",
       "9                                          NaN      NaN  \n",
       "10                                         NaN      NaN  \n",
       "11                                         NaN      NaN  \n",
       "12                                         NaN      NaN  \n",
       "13                                         NaN      NaN  \n",
       "14                                         NaN      NaN  \n",
       "15                                         NaN      NaN  \n",
       "16                                         NaN      NaN  \n",
       "17                                         NaN      NaN  \n",
       "18                                         NaN      NaN  \n",
       "19                                         NaN      NaN  \n",
       "20                                         NaN      NaN  \n",
       "21                                         NaN      NaN  \n",
       "22                                         NaN      NaN  \n",
       "23                                         NaN      NaN  \n",
       "24                                         NaN      NaN  \n",
       "25                                         NaN      NaN  \n",
       "26                                         NaN      NaN  \n",
       "27                                         NaN      NaN  \n",
       "28                                         NaN      NaN  \n",
       "29                                         NaN      NaN  \n",
       "...                                        ...      ...  \n",
       "7656304  60514906c638e30bf583fe0c781bf506j69e9        1  \n",
       "7656305  60514906c638e30bf583fe0c781bf506j69e9        1  \n",
       "7656306  60514906c638e30bf583fe0c781bf506j69e9        1  \n",
       "7656307  60514906c638e30bf583fe0c781bf506j69e9        1  \n",
       "7656308  60514906c638e30bf583fe0c781bf506j69e9        1  \n",
       "7656309  60514906c638e30bf583fe0c781bf506j69e9        1  \n",
       "7656310                                    NaN      NaN  \n",
       "7656311                                    NaN      NaN  \n",
       "7656312                                    NaN      NaN  \n",
       "7656313                                    NaN      NaN  \n",
       "7656314                                    NaN      NaN  \n",
       "7656315                                    NaN      NaN  \n",
       "7656316                                    NaN      NaN  \n",
       "7656317                                    NaN      NaN  \n",
       "7656318                                    NaN      NaN  \n",
       "7656319                                    NaN      NaN  \n",
       "7656320                                    NaN      NaN  \n",
       "7656321                                    NaN      NaN  \n",
       "7656322                                    NaN      NaN  \n",
       "7656323                                    NaN      NaN  \n",
       "7656324  502100bcbbe650810a27b0e70d96372ere7rp        0  \n",
       "7656325  502100bcbbe650810a27b0e70d96372ere7rp        0  \n",
       "7656326                                    NaN      NaN  \n",
       "7656327                                    NaN      NaN  \n",
       "7656328                                    NaN      NaN  \n",
       "7656329                                    NaN      NaN  \n",
       "7656330  2cffbc8171f2ef4b5cafe94f038c877bcert5        1  \n",
       "7656331  e1ef795abd4f178f753542cbbf54ce89jcfxk        0  \n",
       "7656332  65d747de6c1cca49af4c0c27a5b7e8c7tti5y        0  \n",
       "7656333  7a6f24d2b51620605da00bda42691f30697ky        0  \n",
       "\n",
       "[7656334 rows x 12 columns]"
      ]
     },
     "execution_count": 82,
     "metadata": {},
     "output_type": "execute_result"
    }
   ],
   "source": [
    "train_data"
   ]
  },
  {
   "cell_type": "code",
   "execution_count": 83,
   "metadata": {
    "collapsed": false
   },
   "outputs": [
    {
     "name": "stdout",
     "output_type": "stream",
     "text": [
      "<class 'pandas.core.frame.DataFrame'>\n",
      "Int64Index: 7656334 entries, 0 to 7656333\n",
      "Data columns (total 12 columns):\n",
      "bid_id             int64\n",
      "bidder_id          object\n",
      "auction            object\n",
      "merchandise        object\n",
      "device             object\n",
      "time               int64\n",
      "country            object\n",
      "ip                 object\n",
      "url                object\n",
      "payment_account    object\n",
      "address            object\n",
      "outcome            float64\n",
      "dtypes: float64(1), int64(2), object(9)"
     ]
    }
   ],
   "source": [
    "train_data.info()"
   ]
  },
  {
   "cell_type": "markdown",
   "metadata": {},
   "source": [
    "##Drop all the rows from the dataset where there is no outcome (Nan)"
   ]
  },
  {
   "cell_type": "code",
   "execution_count": 84,
   "metadata": {
    "collapsed": false
   },
   "outputs": [],
   "source": [
    "train_data = train_data[pd.notnull(train_data['outcome'])]"
   ]
  },
  {
   "cell_type": "code",
   "execution_count": 85,
   "metadata": {
    "collapsed": false
   },
   "outputs": [
    {
     "name": "stdout",
     "output_type": "stream",
     "text": [
      "<class 'pandas.core.frame.DataFrame'>\n",
      "Int64Index: 3071224 entries, 62529 to 7656333\n",
      "Data columns (total 12 columns):\n",
      "bid_id             int64\n",
      "bidder_id          object\n",
      "auction            object\n",
      "merchandise        object\n",
      "device             object\n",
      "time               int64\n",
      "country            object\n",
      "ip                 object\n",
      "url                object\n",
      "payment_account    object\n",
      "address            object\n",
      "outcome            float64\n",
      "dtypes: float64(1), int64(2), object(9)"
     ]
    }
   ],
   "source": [
    "train_data.info()"
   ]
  },
  {
   "cell_type": "markdown",
   "metadata": {},
   "source": [
    "###String variables are all the columns that have a string entry instead of a number. The must be integers in order to use Cross Validation."
   ]
  },
  {
   "cell_type": "code",
   "execution_count": 86,
   "metadata": {
    "collapsed": true
   },
   "outputs": [],
   "source": [
    "string_variables = ['bidder_id','auction','merchandise','device','country','ip','url','payment_account','address','outcome']"
   ]
  },
  {
   "cell_type": "code",
   "execution_count": 87,
   "metadata": {
    "collapsed": false
   },
   "outputs": [],
   "source": [
    "from sklearn import preprocessing\n",
    "\n",
    "train_numerical = train_data.copy()\n",
    "encoder_dict = {}\n",
    "\n",
    "for col in string_variables:\n",
    "    le = preprocessing.LabelEncoder()\n",
    "    le.fit(train_data[col])\n",
    "    encoder_dict[col] = le\n",
    "    train_numerical[col] = le.transform(train_data[col])"
   ]
  },
  {
   "cell_type": "code",
   "execution_count": 88,
   "metadata": {
    "collapsed": false
   },
   "outputs": [
    {
     "name": "stdout",
     "output_type": "stream",
     "text": [
      "<class 'pandas.core.frame.DataFrame'>\n",
      "Int64Index: 3071224 entries, 62529 to 7656333\n",
      "Data columns (total 12 columns):\n",
      "bid_id             int64\n",
      "bidder_id          int64\n",
      "auction            int64\n",
      "merchandise        int64\n",
      "device             int64\n",
      "time               int64\n",
      "country            int64\n",
      "ip                 int64\n",
      "url                int64\n",
      "payment_account    int64\n",
      "address            int64\n",
      "outcome            int64\n",
      "dtypes: int64(12)"
     ]
    }
   ],
   "source": [
    "train_numerical.info()"
   ]
  },
  {
   "cell_type": "markdown",
   "metadata": {},
   "source": [
    "###All the data is now represented as integers"
   ]
  },
  {
   "cell_type": "code",
   "execution_count": 89,
   "metadata": {
    "collapsed": false
   },
   "outputs": [
    {
     "data": {
      "text/html": [
       "<div style=\"max-height:1000px;max-width:1500px;overflow:auto;\">\n",
       "<table border=\"1\" class=\"dataframe\">\n",
       "  <thead>\n",
       "    <tr style=\"text-align: right;\">\n",
       "      <th></th>\n",
       "      <th>bid_id</th>\n",
       "      <th>bidder_id</th>\n",
       "      <th>auction</th>\n",
       "      <th>merchandise</th>\n",
       "      <th>device</th>\n",
       "      <th>time</th>\n",
       "      <th>country</th>\n",
       "      <th>ip</th>\n",
       "      <th>url</th>\n",
       "      <th>payment_account</th>\n",
       "      <th>address</th>\n",
       "      <th>outcome</th>\n",
       "    </tr>\n",
       "  </thead>\n",
       "  <tbody>\n",
       "    <tr>\n",
       "      <th>62529</th>\n",
       "      <td>  1</td>\n",
       "      <td> 797</td>\n",
       "      <td> 3645</td>\n",
       "      <td> 4</td>\n",
       "      <td>    1</td>\n",
       "      <td> 9759243157894736</td>\n",
       "      <td> 85</td>\n",
       "      <td> 814905</td>\n",
       "      <td> 362128</td>\n",
       "      <td> 1497</td>\n",
       "      <td> 438</td>\n",
       "      <td> 0</td>\n",
       "    </tr>\n",
       "    <tr>\n",
       "      <th>62530</th>\n",
       "      <td> 25</td>\n",
       "      <td> 797</td>\n",
       "      <td> 1092</td>\n",
       "      <td> 4</td>\n",
       "      <td> 3090</td>\n",
       "      <td> 9759243315789473</td>\n",
       "      <td> 16</td>\n",
       "      <td> 220732</td>\n",
       "      <td> 577284</td>\n",
       "      <td> 1497</td>\n",
       "      <td> 438</td>\n",
       "      <td> 0</td>\n",
       "    </tr>\n",
       "    <tr>\n",
       "      <th>62531</th>\n",
       "      <td> 39</td>\n",
       "      <td> 797</td>\n",
       "      <td> 3645</td>\n",
       "      <td> 4</td>\n",
       "      <td> 2627</td>\n",
       "      <td> 9759243368421052</td>\n",
       "      <td> 85</td>\n",
       "      <td> 922139</td>\n",
       "      <td> 336892</td>\n",
       "      <td> 1497</td>\n",
       "      <td> 438</td>\n",
       "      <td> 0</td>\n",
       "    </tr>\n",
       "    <tr>\n",
       "      <th>62532</th>\n",
       "      <td> 42</td>\n",
       "      <td> 797</td>\n",
       "      <td> 6953</td>\n",
       "      <td> 4</td>\n",
       "      <td> 2908</td>\n",
       "      <td> 9759243368421052</td>\n",
       "      <td> 85</td>\n",
       "      <td> 525279</td>\n",
       "      <td> 518653</td>\n",
       "      <td> 1497</td>\n",
       "      <td> 438</td>\n",
       "      <td> 0</td>\n",
       "    </tr>\n",
       "    <tr>\n",
       "      <th>62533</th>\n",
       "      <td> 68</td>\n",
       "      <td> 797</td>\n",
       "      <td> 6099</td>\n",
       "      <td> 4</td>\n",
       "      <td> 4459</td>\n",
       "      <td> 9759243526315789</td>\n",
       "      <td> 85</td>\n",
       "      <td> 162298</td>\n",
       "      <td>  25971</td>\n",
       "      <td> 1497</td>\n",
       "      <td> 438</td>\n",
       "      <td> 0</td>\n",
       "    </tr>\n",
       "  </tbody>\n",
       "</table>\n",
       "</div>"
      ],
      "text/plain": [
       "       bid_id  bidder_id  auction  merchandise  device              time  \\\n",
       "62529       1        797     3645            4       1  9759243157894736   \n",
       "62530      25        797     1092            4    3090  9759243315789473   \n",
       "62531      39        797     3645            4    2627  9759243368421052   \n",
       "62532      42        797     6953            4    2908  9759243368421052   \n",
       "62533      68        797     6099            4    4459  9759243526315789   \n",
       "\n",
       "       country      ip     url  payment_account  address  outcome  \n",
       "62529       85  814905  362128             1497      438        0  \n",
       "62530       16  220732  577284             1497      438        0  \n",
       "62531       85  922139  336892             1497      438        0  \n",
       "62532       85  525279  518653             1497      438        0  \n",
       "62533       85  162298   25971             1497      438        0  "
      ]
     },
     "execution_count": 89,
     "metadata": {},
     "output_type": "execute_result"
    }
   ],
   "source": [
    "train_numerical.head()"
   ]
  },
  {
   "cell_type": "code",
   "execution_count": null,
   "metadata": {
    "collapsed": true
   },
   "outputs": [],
   "source": []
  },
  {
   "cell_type": "markdown",
   "metadata": {},
   "source": [
    "###Numerical features are the features that are going to be used to try to predict the outcome. The outcome is the target."
   ]
  },
  {
   "cell_type": "code",
   "execution_count": 90,
   "metadata": {
    "collapsed": true
   },
   "outputs": [],
   "source": [
    "numerical_features = train_numerical.get(['bid_id','bidder_id','auction','merchandise','device','time','country','ip','url','payment_account','address'])"
   ]
  },
  {
   "cell_type": "code",
   "execution_count": 91,
   "metadata": {
    "collapsed": false
   },
   "outputs": [
    {
     "data": {
      "text/plain": [
       "bid_id             3071224\n",
       "bidder_id          3071224\n",
       "auction            3071224\n",
       "merchandise        3071224\n",
       "device             3071224\n",
       "time               3071224\n",
       "country            3071224\n",
       "ip                 3071224\n",
       "url                3071224\n",
       "payment_account    3071224\n",
       "address            3071224\n",
       "dtype: int64"
      ]
     },
     "execution_count": 91,
     "metadata": {},
     "output_type": "execute_result"
    }
   ],
   "source": [
    "numerical_features.count()"
   ]
  },
  {
   "cell_type": "code",
   "execution_count": 92,
   "metadata": {
    "collapsed": false
   },
   "outputs": [
    {
     "data": {
      "text/plain": [
       "array([[      1,     797,    3645, ...,  362128,    1497,     438],\n",
       "       [     25,     797,    1092, ...,  577284,    1497,     438],\n",
       "       [     39,     797,    3645, ...,  336892,    1497,     438],\n",
       "       ..., \n",
       "       [7639758,    1261,    4579, ...,  615590,     744,    1808],\n",
       "       [7651414,    1732,   12080, ...,  486041,     291,     665],\n",
       "       [7651994,      15,    3267, ...,  116324,    1833,     791]])"
      ]
     },
     "execution_count": 92,
     "metadata": {},
     "output_type": "execute_result"
    }
   ],
   "source": [
    "features_array = numerical_features.values\n",
    "features_array"
   ]
  },
  {
   "cell_type": "code",
   "execution_count": 93,
   "metadata": {
    "collapsed": true
   },
   "outputs": [],
   "source": [
    "target = train_numerical.outcome.values"
   ]
  },
  {
   "cell_type": "code",
   "execution_count": 94,
   "metadata": {
    "collapsed": true
   },
   "outputs": [],
   "source": [
    "from sklearn.cross_validation import train_test_split\n",
    "\n",
    "features_train, features_test, target_train, target_test = train_test_split(\n",
    "    features_array, target, test_size=0.20, random_state=0)"
   ]
  },
  {
   "cell_type": "code",
   "execution_count": 95,
   "metadata": {
    "collapsed": false
   },
   "outputs": [
    {
     "data": {
      "text/plain": [
       "(2456979, 11)"
      ]
     },
     "execution_count": 95,
     "metadata": {},
     "output_type": "execute_result"
    }
   ],
   "source": [
    "features_train.shape"
   ]
  },
  {
   "cell_type": "code",
   "execution_count": 96,
   "metadata": {
    "collapsed": false
   },
   "outputs": [
    {
     "data": {
      "text/plain": [
       "(614245, 11)"
      ]
     },
     "execution_count": 96,
     "metadata": {},
     "output_type": "execute_result"
    }
   ],
   "source": [
    "features_test.shape"
   ]
  },
  {
   "cell_type": "code",
   "execution_count": 97,
   "metadata": {
    "collapsed": false
   },
   "outputs": [
    {
     "data": {
      "text/plain": [
       "(2456979,)"
      ]
     },
     "execution_count": 97,
     "metadata": {},
     "output_type": "execute_result"
    }
   ],
   "source": [
    "target_train.shape"
   ]
  },
  {
   "cell_type": "code",
   "execution_count": 98,
   "metadata": {
    "collapsed": false
   },
   "outputs": [
    {
     "data": {
      "text/plain": [
       "(614245,)"
      ]
     },
     "execution_count": 98,
     "metadata": {},
     "output_type": "execute_result"
    }
   ],
   "source": [
    "target_test.shape"
   ]
  },
  {
   "cell_type": "code",
   "execution_count": 99,
   "metadata": {
    "collapsed": false
   },
   "outputs": [
    {
     "data": {
      "text/plain": [
       "LogisticRegression(C=1, class_weight=None, dual=False, fit_intercept=True,\n",
       "          intercept_scaling=1, penalty='l2', random_state=None, tol=0.0001)"
      ]
     },
     "execution_count": 99,
     "metadata": {},
     "output_type": "execute_result"
    }
   ],
   "source": [
    "from sklearn.linear_model import LogisticRegression\n",
    "\n",
    "lr = LogisticRegression(C=1) #no class weight specified\n",
    "lr.fit(features_train, target_train)"
   ]
  },
  {
   "cell_type": "code",
   "execution_count": 100,
   "metadata": {
    "collapsed": true
   },
   "outputs": [],
   "source": [
    "target_predicted = lr.predict(features_test)"
   ]
  },
  {
   "cell_type": "code",
   "execution_count": 101,
   "metadata": {
    "collapsed": false
   },
   "outputs": [
    {
     "data": {
      "text/plain": [
       "0.86556667127937548"
      ]
     },
     "execution_count": 101,
     "metadata": {},
     "output_type": "execute_result"
    }
   ],
   "source": [
    "from sklearn.metrics import accuracy_score\n",
    "\n",
    "accuracy_score(target_test, target_predicted)"
   ]
  },
  {
   "cell_type": "markdown",
   "metadata": {
    "collapsed": true
   },
   "source": [
    "###This model is not doing very well at predicting the spam in the train dataset. The overall accuracy is 86.6%, but just guessing \"not spam\" every time would yield better results and it is not catching any spam."
   ]
  },
  {
   "cell_type": "code",
   "execution_count": 102,
   "metadata": {
    "collapsed": false
   },
   "outputs": [
    {
     "data": {
      "text/plain": [
       "array(['bid_id', 'bidder_id', 'auction', 'merchandise', 'device', 'time',\n",
       "       'country', 'ip', 'url', 'payment_account', 'address'], dtype=object)"
      ]
     },
     "execution_count": 102,
     "metadata": {},
     "output_type": "execute_result"
    }
   ],
   "source": [
    "feature_names = numerical_features.columns.values\n",
    "feature_names"
   ]
  },
  {
   "cell_type": "code",
   "execution_count": 103,
   "metadata": {
    "collapsed": false
   },
   "outputs": [
    {
     "data": {
      "text/plain": [
       "array([[ -7.39295896e-26,  -2.71041818e-29,  -1.40221212e-28,\n",
       "         -1.18067071e-31,  -5.67025542e-29,  -1.92097335e-16,\n",
       "         -2.22655956e-30,  -1.00035373e-26,  -7.07415411e-27,\n",
       "         -2.81845065e-29,  -1.29448995e-29]])"
      ]
     },
     "execution_count": 103,
     "metadata": {},
     "output_type": "execute_result"
    }
   ],
   "source": [
    "lr.coef_"
   ]
  },
  {
   "cell_type": "code",
   "execution_count": 104,
   "metadata": {
    "collapsed": false
   },
   "outputs": [
    {
     "data": {
      "image/png": "[encoded data removed]",
      "text/plain": [
       "<matplotlib.figure.Figure at 0x10bc1a790>"
      ]
     },
     "metadata": {},
     "output_type": "display_data"
    }
   ],
   "source": [
    "x = np.arange(len(feature_names))\n",
    "plt.bar(x, lr.coef_.ravel())\n",
    "_ = plt.xticks(x + 0.5, feature_names, rotation=30)"
   ]
  },
  {
   "cell_type": "code",
   "execution_count": 105,
   "metadata": {
    "collapsed": false
   },
   "outputs": [
    {
     "data": {
      "text/plain": [
       "array([[ 0.86729691,  0.13270309],\n",
       "       [ 0.86563283,  0.13436717],\n",
       "       [ 0.86571479,  0.13428521],\n",
       "       [ 0.86707719,  0.13292281],\n",
       "       [ 0.86711716,  0.13288284]])"
      ]
     },
     "execution_count": 105,
     "metadata": {},
     "output_type": "execute_result"
    }
   ],
   "source": [
    "target_predicted_proba = lr.predict_proba(features_test)\n",
    "target_predicted_proba[:5]"
   ]
  },
  {
   "cell_type": "code",
   "execution_count": 106,
   "metadata": {
    "collapsed": false
   },
   "outputs": [
    {
     "name": "stdout",
     "output_type": "stream",
     "text": [
      "[[531670      0]\n",
      " [ 82575      0]]\n"
     ]
    }
   ],
   "source": [
    "from sklearn.metrics import confusion_matrix\n",
    "\n",
    "print(confusion_matrix(target_test, target_predicted))"
   ]
  },
  {
   "cell_type": "code",
   "execution_count": 107,
   "metadata": {
    "collapsed": false
   },
   "outputs": [
    {
     "name": "stdout",
     "output_type": "stream",
     "text": [
      "             precision    recall  f1-score   support\n",
      "\n",
      "   not spam       0.87      1.00      0.93    531670\n",
      "       spam       0.00      0.00      0.00     82575\n",
      "\n",
      "avg / total       0.75      0.87      0.80    614245\n",
      "\n"
     ]
    }
   ],
   "source": [
    "from sklearn.metrics import classification_report\n",
    "\n",
    "print(classification_report(target_test, target_predicted,\n",
    "                         target_names=['not spam', 'spam']))"
   ]
  },
  {
   "cell_type": "code",
   "execution_count": null,
   "metadata": {
    "collapsed": false
   },
   "outputs": [],
   "source": []
  },
  {
   "cell_type": "code",
   "execution_count": 108,
   "metadata": {
    "collapsed": true
   },
   "outputs": [],
   "source": [
    "from sklearn.metrics import roc_curve\n",
    "from sklearn.metrics import auc\n",
    "\n",
    "def plot_roc_curve(target_test, target_predicted_proba, this_label):\n",
    "    fpr, tpr, thresholds = roc_curve(target_test, target_predicted_proba[:, 1])\n",
    "    \n",
    "    roc_auc = auc(fpr, tpr)\n",
    "    # Plot ROC curve\n",
    "    plt.plot(fpr, tpr, label= this_label + ', ROC Area = %0.3f' % roc_auc)\n",
    "    plt.plot([0, 1], [0, 1], 'k--')  # random predictions curve\n",
    "    plt.xlim([0.0, 1.0])\n",
    "    plt.ylim([0.0, 1.0])\n",
    "    plt.xlabel('False Positive Rate or (1 - Specifity)')\n",
    "    plt.ylabel('True Positive Rate or (Sensitivity)')\n",
    "    plt.title('ROC')\n",
    "    plt.legend(loc=\"lower right\")"
   ]
  },
  {
   "cell_type": "code",
   "execution_count": 109,
   "metadata": {
    "collapsed": false
   },
   "outputs": [
    {
     "data": {
      "image/png": "[encoded data removed]",
      "text/plain": [
       "<matplotlib.figure.Figure at 0x10b354550>"
      ]
     },
     "metadata": {},
     "output_type": "display_data"
    }
   ],
   "source": [
    "plot_roc_curve(target_test, proba_lr, \"\")"
   ]
  },
  {
   "cell_type": "code",
   "execution_count": null,
   "metadata": {
    "collapsed": false
   },
   "outputs": [],
   "source": []
  },
  {
   "cell_type": "code",
   "execution_count": null,
   "metadata": {
    "collapsed": false
   },
   "outputs": [],
   "source": []
  },
  {
   "cell_type": "markdown",
   "metadata": {},
   "source": [
    "###Now Logistic Regression will be run with class weight set to 'auto'"
   ]
  },
  {
   "cell_type": "code",
   "execution_count": 110,
   "metadata": {
    "collapsed": false
   },
   "outputs": [
    {
     "data": {
      "text/plain": [
       "LogisticRegression(C=1, class_weight='auto', dual=False, fit_intercept=True,\n",
       "          intercept_scaling=1, penalty='l2', random_state=None, tol=0.0001)"
      ]
     },
     "execution_count": 110,
     "metadata": {},
     "output_type": "execute_result"
    }
   ],
   "source": [
    "from sklearn.linear_model import LogisticRegression\n",
    "\n",
    "lr = LogisticRegression(C=1, class_weight='auto') #class weight specified\n",
    "lr.fit(features_train, target_train)"
   ]
  },
  {
   "cell_type": "code",
   "execution_count": 111,
   "metadata": {
    "collapsed": true
   },
   "outputs": [],
   "source": [
    "target_predicted = lr.predict(features_test)"
   ]
  },
  {
   "cell_type": "code",
   "execution_count": 112,
   "metadata": {
    "collapsed": false
   },
   "outputs": [
    {
     "data": {
      "text/plain": [
       "0.1344333287206245"
      ]
     },
     "execution_count": 112,
     "metadata": {},
     "output_type": "execute_result"
    }
   ],
   "source": [
    "from sklearn.metrics import accuracy_score\n",
    "\n",
    "accuracy_score(target_test, target_predicted)"
   ]
  },
  {
   "cell_type": "code",
   "execution_count": 114,
   "metadata": {
    "collapsed": false
   },
   "outputs": [
    {
     "data": {
      "text/plain": [
       "array(['bid_id', 'bidder_id', 'auction', 'merchandise', 'device', 'time',\n",
       "       'country', 'ip', 'url', 'payment_account', 'address'], dtype=object)"
      ]
     },
     "execution_count": 114,
     "metadata": {},
     "output_type": "execute_result"
    }
   ],
   "source": [
    "feature_names = numerical_features.columns.values\n",
    "feature_names"
   ]
  },
  {
   "cell_type": "code",
   "execution_count": 115,
   "metadata": {
    "collapsed": false
   },
   "outputs": [
    {
     "data": {
      "text/plain": [
       "array([[  7.94291990e-28,  -1.34047426e-30,  -2.95525481e-30,\n",
       "          7.74848043e-33,  -1.65441117e-30,   1.25291069e-19,\n",
       "          2.12516329e-32,   3.49949053e-29,   6.08085150e-28,\n",
       "         -2.17204907e-30,   3.25219467e-30]])"
      ]
     },
     "execution_count": 115,
     "metadata": {},
     "output_type": "execute_result"
    }
   ],
   "source": [
    "lr.coef_"
   ]
  },
  {
   "cell_type": "code",
   "execution_count": 116,
   "metadata": {
    "collapsed": false
   },
   "outputs": [
    {
     "data": {
      "image/png": "[encoded data removed]",
      "text/plain": [
       "<matplotlib.figure.Figure at 0x108032c10>"
      ]
     },
     "metadata": {},
     "output_type": "display_data"
    }
   ],
   "source": [
    "x = np.arange(len(feature_names))\n",
    "plt.bar(x, lr.coef_.ravel())\n",
    "_ = plt.xticks(x + 0.5, feature_names, rotation=30)"
   ]
  },
  {
   "cell_type": "code",
   "execution_count": 117,
   "metadata": {
    "collapsed": false
   },
   "outputs": [
    {
     "data": {
      "text/plain": [
       "array([[ 0.4996939 ,  0.5003061 ],\n",
       "       [ 0.49969624,  0.50030376],\n",
       "       [ 0.49969613,  0.50030387],\n",
       "       [ 0.49969421,  0.50030579],\n",
       "       [ 0.49969415,  0.50030585]])"
      ]
     },
     "execution_count": 117,
     "metadata": {},
     "output_type": "execute_result"
    }
   ],
   "source": [
    "target_predicted_proba = lr.predict_proba(features_test)\n",
    "target_predicted_proba[:5]"
   ]
  },
  {
   "cell_type": "code",
   "execution_count": 118,
   "metadata": {
    "collapsed": false
   },
   "outputs": [
    {
     "name": "stdout",
     "output_type": "stream",
     "text": [
      "[[     0 531670]\n",
      " [     0  82575]]\n"
     ]
    }
   ],
   "source": [
    "from sklearn.metrics import confusion_matrix\n",
    "\n",
    "print(confusion_matrix(target_test, target_predicted))"
   ]
  },
  {
   "cell_type": "code",
   "execution_count": 119,
   "metadata": {
    "collapsed": false
   },
   "outputs": [
    {
     "name": "stdout",
     "output_type": "stream",
     "text": [
      "             precision    recall  f1-score   support\n",
      "\n",
      "   not spam       0.00      0.00      0.00    531670\n",
      "       spam       0.13      1.00      0.24     82575\n",
      "\n",
      "avg / total       0.02      0.13      0.03    614245\n",
      "\n"
     ]
    }
   ],
   "source": [
    "from sklearn.metrics import classification_report\n",
    "\n",
    "print(classification_report(target_test, target_predicted,\n",
    "                         target_names=['not spam', 'spam']))"
   ]
  },
  {
   "cell_type": "code",
   "execution_count": 120,
   "metadata": {
    "collapsed": true
   },
   "outputs": [],
   "source": [
    "from sklearn.metrics import roc_curve\n",
    "from sklearn.metrics import auc\n",
    "\n",
    "def plot_roc_curve(target_test, target_predicted_proba, this_label):\n",
    "    fpr, tpr, thresholds = roc_curve(target_test, target_predicted_proba[:, 1])\n",
    "    \n",
    "    roc_auc = auc(fpr, tpr)\n",
    "    # Plot ROC curve\n",
    "    plt.plot(fpr, tpr, label= this_label + ', ROC Area = %0.3f' % roc_auc)\n",
    "    plt.plot([0, 1], [0, 1], 'k--')  # random predictions curve\n",
    "    plt.xlim([0.0, 1.0])\n",
    "    plt.ylim([0.0, 1.0])\n",
    "    plt.xlabel('False Positive Rate or (1 - Specifity)')\n",
    "    plt.ylabel('True Positive Rate or (Sensitivity)')\n",
    "    plt.title('ROC')\n",
    "    plt.legend(loc=\"lower right\")"
   ]
  },
  {
   "cell_type": "code",
   "execution_count": 121,
   "metadata": {
    "collapsed": false
   },
   "outputs": [
    {
     "data": {
      "image/png": "[encoded data removed]",
      "text/plain": [
       "<matplotlib.figure.Figure at 0x10bb2b450>"
      ]
     },
     "metadata": {},
     "output_type": "display_data"
    }
   ],
   "source": [
    "plot_roc_curve(target_test, proba_lr, \"\")"
   ]
  },
  {
   "cell_type": "markdown",
   "metadata": {},
   "source": [
    "###This model improved the precision of predicting spam to 13%, however the overall accuracy is only 13% and the precision of predicting \"not spam\" dramatically decreased to 0."
   ]
  },
  {
   "cell_type": "code",
   "execution_count": 122,
   "metadata": {
    "collapsed": true
   },
   "outputs": [],
   "source": [
    "data_spam = train_numerical[train_numerical.outcome == 1]\n",
    "data_notspam = train_numerical[train_numerical.outcome == 0]"
   ]
  },
  {
   "cell_type": "code",
   "execution_count": 123,
   "metadata": {
    "collapsed": false
   },
   "outputs": [
    {
     "data": {
      "text/plain": [
       "LogisticRegression(C=1, class_weight=None, dual=False, fit_intercept=True,\n",
       "          intercept_scaling=1, penalty='l2', random_state=None, tol=0.0001)"
      ]
     },
     "execution_count": 123,
     "metadata": {},
     "output_type": "execute_result"
    }
   ],
   "source": [
    "tmp = [data_spam, data_spam, data_spam, data_notspam]\n",
    "data_us = pd.concat(tmp)\n",
    "\n",
    "numerical_features_us = data_us.get(['bid_id','bidder_id','auction','merchandise','device','time','country','ip','url','payment_account','address'])\n",
    "features_array_us = numerical_features_us.values\n",
    "target_us = data_us.outcome.values\n",
    "\n",
    "#train test split\n",
    "features_train_us, features_test_us, target_train_us, target_test_us = train_test_split(features_array_us, target_us, test_size=0.20, random_state=0)\n",
    "\n",
    "# train logistic regression, evaluate on test\n",
    "lr_us = LogisticRegression(C=1)\n",
    "lr_us.fit(features_train_us, target_train_us)\n",
    "\n"
   ]
  },
  {
   "cell_type": "code",
   "execution_count": 124,
   "metadata": {
    "collapsed": false
   },
   "outputs": [
    {
     "name": "stdout",
     "output_type": "stream",
     "text": [
      "Train Testing Results With Upsampling the Minority Class \n",
      "\n",
      "\n",
      "             precision    recall  f1-score   support\n",
      "\n",
      "   not spam       0.87      1.00      0.93    531670\n",
      "       spam       0.00      0.00      0.00     82575\n",
      "\n",
      "avg / total       0.75      0.87      0.80    614245\n",
      "\n"
     ]
    }
   ],
   "source": [
    "target_predicted_us = lr_us.predict(features_test)\n",
    "    \n",
    "#evaluate accuracy\n",
    "print(\"Train Testing Results With Upsampling the Minority Class \\n\\n\")\n",
    "\n",
    "print(classification_report(target_test, target_predicted_us,\n",
    "                         target_names=['not spam', 'spam']))\n",
    "    "
   ]
  },
  {
   "cell_type": "code",
   "execution_count": 125,
   "metadata": {
    "collapsed": false
   },
   "outputs": [
    {
     "data": {
      "text/plain": [
       "0.86556667127937548"
      ]
     },
     "execution_count": 125,
     "metadata": {},
     "output_type": "execute_result"
    }
   ],
   "source": [
    "accuracy_score(target_test, target_predicted_us)"
   ]
  },
  {
   "cell_type": "code",
   "execution_count": null,
   "metadata": {
    "collapsed": true
   },
   "outputs": [],
   "source": []
  },
  {
   "cell_type": "code",
   "execution_count": 126,
   "metadata": {
    "collapsed": true
   },
   "outputs": [],
   "source": [
    "bidder_test = pd.read_csv('test.csv')"
   ]
  },
  {
   "cell_type": "code",
   "execution_count": 127,
   "metadata": {
    "collapsed": false
   },
   "outputs": [
    {
     "data": {
      "text/html": [
       "<div style=\"max-height:1000px;max-width:1500px;overflow:auto;\">\n",
       "<table border=\"1\" class=\"dataframe\">\n",
       "  <thead>\n",
       "    <tr style=\"text-align: right;\">\n",
       "      <th></th>\n",
       "      <th>bidder_id</th>\n",
       "      <th>payment_account</th>\n",
       "      <th>address</th>\n",
       "    </tr>\n",
       "  </thead>\n",
       "  <tbody>\n",
       "    <tr>\n",
       "      <th>0</th>\n",
       "      <td> 49bb5a3c944b8fc337981cc7a9ccae41u31d7</td>\n",
       "      <td> a3d2de7675556553a5f08e4c88d2c228htx90</td>\n",
       "      <td> 5d9fa1b71f992e7c7a106ce4b07a0a754le7c</td>\n",
       "    </tr>\n",
       "    <tr>\n",
       "      <th>1</th>\n",
       "      <td> a921612b85a1494456e74c09393ccb65ylp4y</td>\n",
       "      <td> a3d2de7675556553a5f08e4c88d2c228rs17i</td>\n",
       "      <td> a3d2de7675556553a5f08e4c88d2c228klidn</td>\n",
       "    </tr>\n",
       "    <tr>\n",
       "      <th>2</th>\n",
       "      <td> 6b601e72a4d264dab9ace9d7b229b47479v6i</td>\n",
       "      <td> 925381cce086b8cc9594eee1c77edf665zjpl</td>\n",
       "      <td> a3d2de7675556553a5f08e4c88d2c228aght0</td>\n",
       "    </tr>\n",
       "    <tr>\n",
       "      <th>3</th>\n",
       "      <td> eaf0ed0afc9689779417274b4791726cn5udi</td>\n",
       "      <td> a3d2de7675556553a5f08e4c88d2c228nclv5</td>\n",
       "      <td> b5714de1fd69d4a0d2e39d59e53fe9e15vwat</td>\n",
       "    </tr>\n",
       "    <tr>\n",
       "      <th>4</th>\n",
       "      <td> cdecd8d02ed8c6037e38042c7745f688mx5sf</td>\n",
       "      <td> a3d2de7675556553a5f08e4c88d2c228dtdkd</td>\n",
       "      <td> c3b363a3c3b838d58c85acf0fc9964cb4pnfa</td>\n",
       "    </tr>\n",
       "  </tbody>\n",
       "</table>\n",
       "</div>"
      ],
      "text/plain": [
       "                               bidder_id  \\\n",
       "0  49bb5a3c944b8fc337981cc7a9ccae41u31d7   \n",
       "1  a921612b85a1494456e74c09393ccb65ylp4y   \n",
       "2  6b601e72a4d264dab9ace9d7b229b47479v6i   \n",
       "3  eaf0ed0afc9689779417274b4791726cn5udi   \n",
       "4  cdecd8d02ed8c6037e38042c7745f688mx5sf   \n",
       "\n",
       "                         payment_account  \\\n",
       "0  a3d2de7675556553a5f08e4c88d2c228htx90   \n",
       "1  a3d2de7675556553a5f08e4c88d2c228rs17i   \n",
       "2  925381cce086b8cc9594eee1c77edf665zjpl   \n",
       "3  a3d2de7675556553a5f08e4c88d2c228nclv5   \n",
       "4  a3d2de7675556553a5f08e4c88d2c228dtdkd   \n",
       "\n",
       "                                 address  \n",
       "0  5d9fa1b71f992e7c7a106ce4b07a0a754le7c  \n",
       "1  a3d2de7675556553a5f08e4c88d2c228klidn  \n",
       "2  a3d2de7675556553a5f08e4c88d2c228aght0  \n",
       "3  b5714de1fd69d4a0d2e39d59e53fe9e15vwat  \n",
       "4  c3b363a3c3b838d58c85acf0fc9964cb4pnfa  "
      ]
     },
     "execution_count": 127,
     "metadata": {},
     "output_type": "execute_result"
    }
   ],
   "source": [
    "bidder_test.head()"
   ]
  },
  {
   "cell_type": "code",
   "execution_count": 128,
   "metadata": {
    "collapsed": true
   },
   "outputs": [],
   "source": [
    "test_data = pd.merge(bids, bidder_test, how='left', on='bidder_id')"
   ]
  },
  {
   "cell_type": "code",
   "execution_count": 129,
   "metadata": {
    "collapsed": false
   },
   "outputs": [
    {
     "data": {
      "text/html": [
       "<div style=\"max-height:1000px;max-width:1500px;overflow:auto;\">\n",
       "<table border=\"1\" class=\"dataframe\">\n",
       "  <thead>\n",
       "    <tr style=\"text-align: right;\">\n",
       "      <th></th>\n",
       "      <th>bid_id</th>\n",
       "      <th>bidder_id</th>\n",
       "      <th>auction</th>\n",
       "      <th>merchandise</th>\n",
       "      <th>device</th>\n",
       "      <th>time</th>\n",
       "      <th>country</th>\n",
       "      <th>ip</th>\n",
       "      <th>url</th>\n",
       "      <th>payment_account</th>\n",
       "      <th>address</th>\n",
       "    </tr>\n",
       "  </thead>\n",
       "  <tbody>\n",
       "    <tr>\n",
       "      <th>0</th>\n",
       "      <td>   0</td>\n",
       "      <td> 8dac2b259fd1c6d1120e519fb1ac14fbqvax8</td>\n",
       "      <td> ewmzr</td>\n",
       "      <td> jewelry</td>\n",
       "      <td>   phone0</td>\n",
       "      <td> 9759243157894736</td>\n",
       "      <td> us</td>\n",
       "      <td>   69.166.231.58</td>\n",
       "      <td> vasstdc27m7nks3</td>\n",
       "      <td> a3d2de7675556553a5f08e4c88d2c2282ay1v</td>\n",
       "      <td> 7f4c6ac489cbd95e38e4f093bb308af5jae25</td>\n",
       "    </tr>\n",
       "    <tr>\n",
       "      <th>1</th>\n",
       "      <td>  14</td>\n",
       "      <td> 8dac2b259fd1c6d1120e519fb1ac14fbqvax8</td>\n",
       "      <td> wberf</td>\n",
       "      <td> jewelry</td>\n",
       "      <td>  phone15</td>\n",
       "      <td> 9759243263157894</td>\n",
       "      <td> au</td>\n",
       "      <td> 134.243.148.253</td>\n",
       "      <td> vasstdc27m7nks3</td>\n",
       "      <td> a3d2de7675556553a5f08e4c88d2c2282ay1v</td>\n",
       "      <td> 7f4c6ac489cbd95e38e4f093bb308af5jae25</td>\n",
       "    </tr>\n",
       "    <tr>\n",
       "      <th>2</th>\n",
       "      <td> 106</td>\n",
       "      <td> 8dac2b259fd1c6d1120e519fb1ac14fbqvax8</td>\n",
       "      <td> hw5at</td>\n",
       "      <td> jewelry</td>\n",
       "      <td>  phone80</td>\n",
       "      <td> 9759243736842105</td>\n",
       "      <td> ke</td>\n",
       "      <td>  227.231.81.211</td>\n",
       "      <td> v2gyrh0dbr31atn</td>\n",
       "      <td> a3d2de7675556553a5f08e4c88d2c2282ay1v</td>\n",
       "      <td> 7f4c6ac489cbd95e38e4f093bb308af5jae25</td>\n",
       "    </tr>\n",
       "    <tr>\n",
       "      <th>3</th>\n",
       "      <td> 152</td>\n",
       "      <td> 8dac2b259fd1c6d1120e519fb1ac14fbqvax8</td>\n",
       "      <td> uw3sx</td>\n",
       "      <td> jewelry</td>\n",
       "      <td>  phone41</td>\n",
       "      <td> 9759243947368421</td>\n",
       "      <td> iq</td>\n",
       "      <td>  140.231.164.76</td>\n",
       "      <td> xdsfv4oevw5owkq</td>\n",
       "      <td> a3d2de7675556553a5f08e4c88d2c2282ay1v</td>\n",
       "      <td> 7f4c6ac489cbd95e38e4f093bb308af5jae25</td>\n",
       "    </tr>\n",
       "    <tr>\n",
       "      <th>4</th>\n",
       "      <td> 155</td>\n",
       "      <td> 8dac2b259fd1c6d1120e519fb1ac14fbqvax8</td>\n",
       "      <td> q79ya</td>\n",
       "      <td> jewelry</td>\n",
       "      <td> phone102</td>\n",
       "      <td> 9759244000000000</td>\n",
       "      <td> za</td>\n",
       "      <td>  187.81.242.103</td>\n",
       "      <td> eex5it5avrad6s8</td>\n",
       "      <td> a3d2de7675556553a5f08e4c88d2c2282ay1v</td>\n",
       "      <td> 7f4c6ac489cbd95e38e4f093bb308af5jae25</td>\n",
       "    </tr>\n",
       "  </tbody>\n",
       "</table>\n",
       "</div>"
      ],
      "text/plain": [
       "   bid_id                              bidder_id auction merchandise  \\\n",
       "0       0  8dac2b259fd1c6d1120e519fb1ac14fbqvax8   ewmzr     jewelry   \n",
       "1      14  8dac2b259fd1c6d1120e519fb1ac14fbqvax8   wberf     jewelry   \n",
       "2     106  8dac2b259fd1c6d1120e519fb1ac14fbqvax8   hw5at     jewelry   \n",
       "3     152  8dac2b259fd1c6d1120e519fb1ac14fbqvax8   uw3sx     jewelry   \n",
       "4     155  8dac2b259fd1c6d1120e519fb1ac14fbqvax8   q79ya     jewelry   \n",
       "\n",
       "     device              time country               ip              url  \\\n",
       "0    phone0  9759243157894736      us    69.166.231.58  vasstdc27m7nks3   \n",
       "1   phone15  9759243263157894      au  134.243.148.253  vasstdc27m7nks3   \n",
       "2   phone80  9759243736842105      ke   227.231.81.211  v2gyrh0dbr31atn   \n",
       "3   phone41  9759243947368421      iq   140.231.164.76  xdsfv4oevw5owkq   \n",
       "4  phone102  9759244000000000      za   187.81.242.103  eex5it5avrad6s8   \n",
       "\n",
       "                         payment_account  \\\n",
       "0  a3d2de7675556553a5f08e4c88d2c2282ay1v   \n",
       "1  a3d2de7675556553a5f08e4c88d2c2282ay1v   \n",
       "2  a3d2de7675556553a5f08e4c88d2c2282ay1v   \n",
       "3  a3d2de7675556553a5f08e4c88d2c2282ay1v   \n",
       "4  a3d2de7675556553a5f08e4c88d2c2282ay1v   \n",
       "\n",
       "                                 address  \n",
       "0  7f4c6ac489cbd95e38e4f093bb308af5jae25  \n",
       "1  7f4c6ac489cbd95e38e4f093bb308af5jae25  \n",
       "2  7f4c6ac489cbd95e38e4f093bb308af5jae25  \n",
       "3  7f4c6ac489cbd95e38e4f093bb308af5jae25  \n",
       "4  7f4c6ac489cbd95e38e4f093bb308af5jae25  "
      ]
     },
     "execution_count": 129,
     "metadata": {},
     "output_type": "execute_result"
    }
   ],
   "source": [
    "test_data.head()"
   ]
  },
  {
   "cell_type": "code",
   "execution_count": 2,
   "metadata": {
    "collapsed": false
   },
   "outputs": [
    {
     "ename": "NameError",
     "evalue": "name 'test_data' is not defined",
     "output_type": "error",
     "traceback": [
      "\u001b[0;31m---------------------------------------------------------------------------\u001b[0m",
      "\u001b[0;31mNameError\u001b[0m                                 Traceback (most recent call last)",
      "\u001b[0;32m<ipython-input-2-ae4e48d498a4>\u001b[0m in \u001b[0;36m<module>\u001b[0;34m()\u001b[0m\n\u001b[1;32m      2\u001b[0m \u001b[0;34m\u001b[0m\u001b[0m\n\u001b[1;32m      3\u001b[0m \u001b[0;34m\u001b[0m\u001b[0m\n\u001b[0;32m----> 4\u001b[0;31m \u001b[0mfullbid_numerical\u001b[0m \u001b[0;34m=\u001b[0m \u001b[0mtest_data\u001b[0m\u001b[0;34m.\u001b[0m\u001b[0mcopy\u001b[0m\u001b[0;34m(\u001b[0m\u001b[0;34m)\u001b[0m\u001b[0;34m\u001b[0m\u001b[0m\n\u001b[0m\u001b[1;32m      5\u001b[0m \u001b[0mfullbid_encoder_dict\u001b[0m \u001b[0;34m=\u001b[0m \u001b[0;34m{\u001b[0m\u001b[0;34m}\u001b[0m\u001b[0;34m\u001b[0m\u001b[0m\n\u001b[1;32m      6\u001b[0m \u001b[0;34m\u001b[0m\u001b[0m\n",
      "\u001b[0;31mNameError\u001b[0m: name 'test_data' is not defined"
     ]
    }
   ],
   "source": [
    "fullbid_variables = ['bid_id','bidder_id','auction','merchandise','device','time','country','ip','url','payment_account','address']\n",
    "\n",
    "\n",
    "fullbid_numerical = test_data.copy()\n",
    "fullbid_encoder_dict = {}\n",
    "\n",
    "for col in fullbid_variables:\n",
    "    le = preprocessing.LabelEncoder()\n",
    "    le.fit(test_data[col])\n",
    "    fullbid_encoder_dict[col] = le\n",
    "    fullbid_numerical[col] = le.transform(test_data[col])\n",
    "\n",
    "fullbid_numerical.head()"
   ]
  },
  {
   "cell_type": "code",
   "execution_count": 1,
   "metadata": {
    "collapsed": false
   },
   "outputs": [
    {
     "ename": "NameError",
     "evalue": "name 'fullbid_numerical' is not defined",
     "output_type": "error",
     "traceback": [
      "\u001b[0;31m---------------------------------------------------------------------------\u001b[0m",
      "\u001b[0;31mNameError\u001b[0m                                 Traceback (most recent call last)",
      "\u001b[0;32m<ipython-input-1-06cbc6bd9b72>\u001b[0m in \u001b[0;36m<module>\u001b[0;34m()\u001b[0m\n\u001b[0;32m----> 1\u001b[0;31m \u001b[0mnumerical_features\u001b[0m \u001b[0;34m=\u001b[0m \u001b[0mfullbid_numerical\u001b[0m\u001b[0;34m.\u001b[0m\u001b[0mcolumns\u001b[0m\u001b[0;34m\u001b[0m\u001b[0m\n\u001b[0m\u001b[1;32m      2\u001b[0m \u001b[0mfeatures_array\u001b[0m \u001b[0;34m=\u001b[0m \u001b[0mnumerical_features\u001b[0m\u001b[0;34m.\u001b[0m\u001b[0mvalues\u001b[0m\u001b[0;34m\u001b[0m\u001b[0m\n\u001b[1;32m      3\u001b[0m \u001b[0mfeatures_train\u001b[0m\u001b[0;34m,\u001b[0m \u001b[0mfeatures_test\u001b[0m\u001b[0;34m,\u001b[0m \u001b[0mtarget_train\u001b[0m\u001b[0;34m,\u001b[0m \u001b[0mtarget_test\u001b[0m \u001b[0;34m=\u001b[0m \u001b[0mtrain_test_split\u001b[0m\u001b[0;34m(\u001b[0m\u001b[0mfeatures_array\u001b[0m\u001b[0;34m,\u001b[0m \u001b[0mtarget\u001b[0m\u001b[0;34m,\u001b[0m \u001b[0mtest_size\u001b[0m\u001b[0;34m=\u001b[0m\u001b[0;36m0.20\u001b[0m\u001b[0;34m,\u001b[0m \u001b[0mrandom_state\u001b[0m\u001b[0;34m=\u001b[0m\u001b[0;36m0\u001b[0m\u001b[0;34m)\u001b[0m\u001b[0;34m\u001b[0m\u001b[0m\n",
      "\u001b[0;31mNameError\u001b[0m: name 'fullbid_numerical' is not defined"
     ]
    }
   ],
   "source": [
    "numerical_features = fullbid_numerical.columns\n",
    "features_array = numerical_features.values\n",
    "features_train, features_test, target_train, target_test = train_test_split(features_array, target, test_size=0.20, random_state=0)"
   ]
  },
  {
   "cell_type": "code",
   "execution_count": null,
   "metadata": {
    "collapsed": true
   },
   "outputs": [],
   "source": [
    "lr.fit(features_train, target_train)\n",
    "target_predicted = lr.predict(features_test)"
   ]
  },
  {
   "cell_type": "code",
   "execution_count": null,
   "metadata": {
    "collapsed": true
   },
   "outputs": [],
   "source": [
    "print(bidder_id, target_predicted)"
   ]
  },
  {
   "cell_type": "code",
   "execution_count": null,
   "metadata": {
    "collapsed": true
   },
   "outputs": [],
   "source": [
    "xcols = [col for col in fullbank_numerical.columns if col not in ['y', 'duration']]\n",
    "\n",
    "X = fullbid_numerical[xcols].values\n",
    "y = fullbid_numerical['y'].values"
   ]
  },
  {
   "cell_type": "code",
   "execution_count": null,
   "metadata": {
    "collapsed": true
   },
   "outputs": [],
   "source": [
    "scores = cross_validation.cross_val_score(clf, X, y, cv=cross_validation.KFold(len(X), n_folds=5,\n",
    "                           shuffle=True, random_state=0))\n",
    "scores"
   ]
  }
 ],
 "metadata": {
  "kernelspec": {
   "display_name": "Python 2",
   "language": "python",
   "name": "python2"
  },
  "language_info": {
   "codemirror_mode": {
    "name": "ipython",
    "version": 2
   },
   "file_extension": ".py",
   "mimetype": "text/x-python",
   "name": "python",
   "nbconvert_exporter": "python",
   "pygments_lexer": "ipython2",
   "version": "2.7.9"
  }
 },
 "nbformat": 4,
 "nbformat_minor": 0
}
